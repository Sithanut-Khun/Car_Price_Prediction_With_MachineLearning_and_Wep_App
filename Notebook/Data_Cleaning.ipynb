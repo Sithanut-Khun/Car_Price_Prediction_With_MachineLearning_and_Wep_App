{
 "cells": [
  {
   "cell_type": "code",
   "execution_count": 1,
   "metadata": {},
   "outputs": [],
   "source": [
    "import pandas as pd"
   ]
  },
  {
   "cell_type": "markdown",
   "metadata": {},
   "source": [
    "## About Dataset\n",
    "### Description:\n",
    "This dataset contains the latest information on car prices in Australia for the year 2023. It covers various brands, models, types, and features of cars sold in the Australian market. It provides useful insights into the trends and factors influencing the car prices in Australia. The dataset includes information such as brand, year, model, car/suv, title, used/new, transmission, engine, drive type, fuel type, fuel consumption, kilometres, colour (exterior/interior), location, cylinders in engine, body type, doors, seats, and price. The dataset has over 16,000 records of car listings from various online platforms in Australia."
   ]
  },
  {
   "cell_type": "markdown",
   "metadata": {},
   "source": [
    "## Key Features:\n",
    "- Brand: Name of the car manufacturer \n",
    "- Year: Year of manufacture or release\n",
    "- Model: Name or code of the car model\n",
    "- Car/Suv: Type of the car (car or suv)\n",
    "- Title: Title or description of the car\n",
    "- UsedOrNew: Condition of the car (used or new)\n",
    "- Transmission: Type of transmission (manual or automatic)\n",
    "- Engine: Engine capacity or power (in litres or kilowatts)\n",
    "- DriveType: Type of drive (front-wheel, rear-wheel, or all-wheel)\n",
    "- FuelType: Type of fuel (petrol, diesel, hybrid, or electric)\n",
    "- FuelConsumption: Fuel consumption rate (in litres per 100 km)\n",
    "- Kilometres: Distance travelled by the car (in kilometres)\n",
    "- ColourExtInt: Colour of the car (exterior and interior)\n",
    "- Location: Location of the car (city and state)\n",
    "- CylindersinEngine: Number of cylinders in the engine\n",
    "- BodyType: Shape or style of the car body (sedan, hatchback, coupe, etc.)\n",
    "- Doors: Number of doors in the car\n",
    "- Seats: Number of seats in the car\n",
    "- Price: Price of the car (in Australian dollars)"
   ]
  },
  {
   "cell_type": "code",
   "execution_count": 2,
   "metadata": {},
   "outputs": [],
   "source": [
    "car = pd.read_csv('Australian Vehicle Prices.csv')"
   ]
  },
  {
   "cell_type": "code",
   "execution_count": 3,
   "metadata": {},
   "outputs": [
    {
     "data": {
      "text/html": [
       "<div>\n",
       "<style scoped>\n",
       "    .dataframe tbody tr th:only-of-type {\n",
       "        vertical-align: middle;\n",
       "    }\n",
       "\n",
       "    .dataframe tbody tr th {\n",
       "        vertical-align: top;\n",
       "    }\n",
       "\n",
       "    .dataframe thead th {\n",
       "        text-align: right;\n",
       "    }\n",
       "</style>\n",
       "<table border=\"1\" class=\"dataframe\">\n",
       "  <thead>\n",
       "    <tr style=\"text-align: right;\">\n",
       "      <th></th>\n",
       "      <th>Brand</th>\n",
       "      <th>Year</th>\n",
       "      <th>Model</th>\n",
       "      <th>Car/Suv</th>\n",
       "      <th>Title</th>\n",
       "      <th>UsedOrNew</th>\n",
       "      <th>Transmission</th>\n",
       "      <th>Engine</th>\n",
       "      <th>DriveType</th>\n",
       "      <th>FuelType</th>\n",
       "      <th>FuelConsumption</th>\n",
       "      <th>Kilometres</th>\n",
       "      <th>ColourExtInt</th>\n",
       "      <th>Location</th>\n",
       "      <th>CylindersinEngine</th>\n",
       "      <th>BodyType</th>\n",
       "      <th>Doors</th>\n",
       "      <th>Seats</th>\n",
       "      <th>Price</th>\n",
       "    </tr>\n",
       "  </thead>\n",
       "  <tbody>\n",
       "    <tr>\n",
       "      <th>0</th>\n",
       "      <td>Ssangyong</td>\n",
       "      <td>2022.0</td>\n",
       "      <td>Rexton</td>\n",
       "      <td>Sutherland Isuzu Ute</td>\n",
       "      <td>2022 Ssangyong Rexton Ultimate (awd)</td>\n",
       "      <td>DEMO</td>\n",
       "      <td>Automatic</td>\n",
       "      <td>4 cyl, 2.2 L</td>\n",
       "      <td>AWD</td>\n",
       "      <td>Diesel</td>\n",
       "      <td>8.7 L / 100 km</td>\n",
       "      <td>5595</td>\n",
       "      <td>White / Black</td>\n",
       "      <td>Caringbah, NSW</td>\n",
       "      <td>4 cyl</td>\n",
       "      <td>SUV</td>\n",
       "      <td>4 Doors</td>\n",
       "      <td>7 Seats</td>\n",
       "      <td>51990</td>\n",
       "    </tr>\n",
       "    <tr>\n",
       "      <th>1</th>\n",
       "      <td>MG</td>\n",
       "      <td>2022.0</td>\n",
       "      <td>MG3</td>\n",
       "      <td>Hatchback</td>\n",
       "      <td>2022 MG MG3 Auto Excite (with Navigation)</td>\n",
       "      <td>USED</td>\n",
       "      <td>Automatic</td>\n",
       "      <td>4 cyl, 1.5 L</td>\n",
       "      <td>Front</td>\n",
       "      <td>Premium</td>\n",
       "      <td>6.7 L / 100 km</td>\n",
       "      <td>16</td>\n",
       "      <td>Black / Black</td>\n",
       "      <td>Brookvale, NSW</td>\n",
       "      <td>4 cyl</td>\n",
       "      <td>Hatchback</td>\n",
       "      <td>5 Doors</td>\n",
       "      <td>5 Seats</td>\n",
       "      <td>19990</td>\n",
       "    </tr>\n",
       "    <tr>\n",
       "      <th>2</th>\n",
       "      <td>BMW</td>\n",
       "      <td>2022.0</td>\n",
       "      <td>430I</td>\n",
       "      <td>Coupe</td>\n",
       "      <td>2022 BMW 430I M Sport</td>\n",
       "      <td>USED</td>\n",
       "      <td>Automatic</td>\n",
       "      <td>4 cyl, 2 L</td>\n",
       "      <td>Rear</td>\n",
       "      <td>Premium</td>\n",
       "      <td>6.6 L / 100 km</td>\n",
       "      <td>8472</td>\n",
       "      <td>Grey / White</td>\n",
       "      <td>Sylvania, NSW</td>\n",
       "      <td>4 cyl</td>\n",
       "      <td>Coupe</td>\n",
       "      <td>2 Doors</td>\n",
       "      <td>4 Seats</td>\n",
       "      <td>108988</td>\n",
       "    </tr>\n",
       "    <tr>\n",
       "      <th>3</th>\n",
       "      <td>Mercedes-Benz</td>\n",
       "      <td>2011.0</td>\n",
       "      <td>E500</td>\n",
       "      <td>Coupe</td>\n",
       "      <td>2011 Mercedes-Benz E500 Elegance</td>\n",
       "      <td>USED</td>\n",
       "      <td>Automatic</td>\n",
       "      <td>8 cyl, 5.5 L</td>\n",
       "      <td>Rear</td>\n",
       "      <td>Premium</td>\n",
       "      <td>11 L / 100 km</td>\n",
       "      <td>136517</td>\n",
       "      <td>White / Brown</td>\n",
       "      <td>Mount Druitt, NSW</td>\n",
       "      <td>8 cyl</td>\n",
       "      <td>Coupe</td>\n",
       "      <td>2 Doors</td>\n",
       "      <td>4 Seats</td>\n",
       "      <td>32990</td>\n",
       "    </tr>\n",
       "    <tr>\n",
       "      <th>4</th>\n",
       "      <td>Renault</td>\n",
       "      <td>2022.0</td>\n",
       "      <td>Arkana</td>\n",
       "      <td>SUV</td>\n",
       "      <td>2022 Renault Arkana Intens</td>\n",
       "      <td>USED</td>\n",
       "      <td>Automatic</td>\n",
       "      <td>4 cyl, 1.3 L</td>\n",
       "      <td>Front</td>\n",
       "      <td>Unleaded</td>\n",
       "      <td>6 L / 100 km</td>\n",
       "      <td>1035</td>\n",
       "      <td>Grey / Black</td>\n",
       "      <td>Castle Hill, NSW</td>\n",
       "      <td>4 cyl</td>\n",
       "      <td>SUV</td>\n",
       "      <td>4 Doors</td>\n",
       "      <td>5 Seats</td>\n",
       "      <td>34990</td>\n",
       "    </tr>\n",
       "  </tbody>\n",
       "</table>\n",
       "</div>"
      ],
      "text/plain": [
       "           Brand    Year   Model               Car/Suv  \\\n",
       "0      Ssangyong  2022.0  Rexton  Sutherland Isuzu Ute   \n",
       "1             MG  2022.0     MG3             Hatchback   \n",
       "2            BMW  2022.0    430I                 Coupe   \n",
       "3  Mercedes-Benz  2011.0    E500                 Coupe   \n",
       "4        Renault  2022.0  Arkana                   SUV   \n",
       "\n",
       "                                       Title UsedOrNew Transmission  \\\n",
       "0       2022 Ssangyong Rexton Ultimate (awd)      DEMO    Automatic   \n",
       "1  2022 MG MG3 Auto Excite (with Navigation)      USED    Automatic   \n",
       "2                      2022 BMW 430I M Sport      USED    Automatic   \n",
       "3           2011 Mercedes-Benz E500 Elegance      USED    Automatic   \n",
       "4                 2022 Renault Arkana Intens      USED    Automatic   \n",
       "\n",
       "         Engine DriveType  FuelType FuelConsumption Kilometres   ColourExtInt  \\\n",
       "0  4 cyl, 2.2 L       AWD    Diesel  8.7 L / 100 km       5595  White / Black   \n",
       "1  4 cyl, 1.5 L     Front   Premium  6.7 L / 100 km         16  Black / Black   \n",
       "2    4 cyl, 2 L      Rear   Premium  6.6 L / 100 km       8472   Grey / White   \n",
       "3  8 cyl, 5.5 L      Rear   Premium   11 L / 100 km     136517  White / Brown   \n",
       "4  4 cyl, 1.3 L     Front  Unleaded    6 L / 100 km       1035   Grey / Black   \n",
       "\n",
       "            Location CylindersinEngine   BodyType     Doors     Seats   Price  \n",
       "0     Caringbah, NSW             4 cyl        SUV   4 Doors   7 Seats   51990  \n",
       "1     Brookvale, NSW             4 cyl  Hatchback   5 Doors   5 Seats   19990  \n",
       "2      Sylvania, NSW             4 cyl      Coupe   2 Doors   4 Seats  108988  \n",
       "3  Mount Druitt, NSW             8 cyl      Coupe   2 Doors   4 Seats   32990  \n",
       "4   Castle Hill, NSW             4 cyl        SUV   4 Doors   5 Seats   34990  "
      ]
     },
     "execution_count": 3,
     "metadata": {},
     "output_type": "execute_result"
    }
   ],
   "source": [
    "car.head()"
   ]
  },
  {
   "cell_type": "markdown",
   "metadata": {},
   "source": [
    "#### Drop unecessary columns from dataset"
   ]
  },
  {
   "cell_type": "code",
   "execution_count": 4,
   "metadata": {},
   "outputs": [],
   "source": [
    "columns_to_drop = ['Car/Suv', 'Engine','DriveType','Doors','Seats','Location','FuelConsumption']\n",
    "\n",
    "# Drop the specified columns\n",
    "car.drop(columns=columns_to_drop, inplace=True)"
   ]
  },
  {
   "cell_type": "code",
   "execution_count": 5,
   "metadata": {},
   "outputs": [
    {
     "data": {
      "text/html": [
       "<div>\n",
       "<style scoped>\n",
       "    .dataframe tbody tr th:only-of-type {\n",
       "        vertical-align: middle;\n",
       "    }\n",
       "\n",
       "    .dataframe tbody tr th {\n",
       "        vertical-align: top;\n",
       "    }\n",
       "\n",
       "    .dataframe thead th {\n",
       "        text-align: right;\n",
       "    }\n",
       "</style>\n",
       "<table border=\"1\" class=\"dataframe\">\n",
       "  <thead>\n",
       "    <tr style=\"text-align: right;\">\n",
       "      <th></th>\n",
       "      <th>Brand</th>\n",
       "      <th>Year</th>\n",
       "      <th>Model</th>\n",
       "      <th>Title</th>\n",
       "      <th>UsedOrNew</th>\n",
       "      <th>Transmission</th>\n",
       "      <th>FuelType</th>\n",
       "      <th>Kilometres</th>\n",
       "      <th>ColourExtInt</th>\n",
       "      <th>CylindersinEngine</th>\n",
       "      <th>BodyType</th>\n",
       "      <th>Price</th>\n",
       "    </tr>\n",
       "  </thead>\n",
       "  <tbody>\n",
       "    <tr>\n",
       "      <th>0</th>\n",
       "      <td>Ssangyong</td>\n",
       "      <td>2022.0</td>\n",
       "      <td>Rexton</td>\n",
       "      <td>2022 Ssangyong Rexton Ultimate (awd)</td>\n",
       "      <td>DEMO</td>\n",
       "      <td>Automatic</td>\n",
       "      <td>Diesel</td>\n",
       "      <td>5595</td>\n",
       "      <td>White / Black</td>\n",
       "      <td>4 cyl</td>\n",
       "      <td>SUV</td>\n",
       "      <td>51990</td>\n",
       "    </tr>\n",
       "    <tr>\n",
       "      <th>1</th>\n",
       "      <td>MG</td>\n",
       "      <td>2022.0</td>\n",
       "      <td>MG3</td>\n",
       "      <td>2022 MG MG3 Auto Excite (with Navigation)</td>\n",
       "      <td>USED</td>\n",
       "      <td>Automatic</td>\n",
       "      <td>Premium</td>\n",
       "      <td>16</td>\n",
       "      <td>Black / Black</td>\n",
       "      <td>4 cyl</td>\n",
       "      <td>Hatchback</td>\n",
       "      <td>19990</td>\n",
       "    </tr>\n",
       "    <tr>\n",
       "      <th>2</th>\n",
       "      <td>BMW</td>\n",
       "      <td>2022.0</td>\n",
       "      <td>430I</td>\n",
       "      <td>2022 BMW 430I M Sport</td>\n",
       "      <td>USED</td>\n",
       "      <td>Automatic</td>\n",
       "      <td>Premium</td>\n",
       "      <td>8472</td>\n",
       "      <td>Grey / White</td>\n",
       "      <td>4 cyl</td>\n",
       "      <td>Coupe</td>\n",
       "      <td>108988</td>\n",
       "    </tr>\n",
       "    <tr>\n",
       "      <th>3</th>\n",
       "      <td>Mercedes-Benz</td>\n",
       "      <td>2011.0</td>\n",
       "      <td>E500</td>\n",
       "      <td>2011 Mercedes-Benz E500 Elegance</td>\n",
       "      <td>USED</td>\n",
       "      <td>Automatic</td>\n",
       "      <td>Premium</td>\n",
       "      <td>136517</td>\n",
       "      <td>White / Brown</td>\n",
       "      <td>8 cyl</td>\n",
       "      <td>Coupe</td>\n",
       "      <td>32990</td>\n",
       "    </tr>\n",
       "    <tr>\n",
       "      <th>4</th>\n",
       "      <td>Renault</td>\n",
       "      <td>2022.0</td>\n",
       "      <td>Arkana</td>\n",
       "      <td>2022 Renault Arkana Intens</td>\n",
       "      <td>USED</td>\n",
       "      <td>Automatic</td>\n",
       "      <td>Unleaded</td>\n",
       "      <td>1035</td>\n",
       "      <td>Grey / Black</td>\n",
       "      <td>4 cyl</td>\n",
       "      <td>SUV</td>\n",
       "      <td>34990</td>\n",
       "    </tr>\n",
       "  </tbody>\n",
       "</table>\n",
       "</div>"
      ],
      "text/plain": [
       "           Brand    Year   Model                                      Title  \\\n",
       "0      Ssangyong  2022.0  Rexton       2022 Ssangyong Rexton Ultimate (awd)   \n",
       "1             MG  2022.0     MG3  2022 MG MG3 Auto Excite (with Navigation)   \n",
       "2            BMW  2022.0    430I                      2022 BMW 430I M Sport   \n",
       "3  Mercedes-Benz  2011.0    E500           2011 Mercedes-Benz E500 Elegance   \n",
       "4        Renault  2022.0  Arkana                 2022 Renault Arkana Intens   \n",
       "\n",
       "  UsedOrNew Transmission  FuelType Kilometres   ColourExtInt  \\\n",
       "0      DEMO    Automatic    Diesel       5595  White / Black   \n",
       "1      USED    Automatic   Premium         16  Black / Black   \n",
       "2      USED    Automatic   Premium       8472   Grey / White   \n",
       "3      USED    Automatic   Premium     136517  White / Brown   \n",
       "4      USED    Automatic  Unleaded       1035   Grey / Black   \n",
       "\n",
       "  CylindersinEngine   BodyType   Price  \n",
       "0             4 cyl        SUV   51990  \n",
       "1             4 cyl  Hatchback   19990  \n",
       "2             4 cyl      Coupe  108988  \n",
       "3             8 cyl      Coupe   32990  \n",
       "4             4 cyl        SUV   34990  "
      ]
     },
     "execution_count": 5,
     "metadata": {},
     "output_type": "execute_result"
    }
   ],
   "source": [
    "car.head()"
   ]
  },
  {
   "cell_type": "code",
   "execution_count": 6,
   "metadata": {},
   "outputs": [
    {
     "data": {
      "text/plain": [
       "(16734, 12)"
      ]
     },
     "execution_count": 6,
     "metadata": {},
     "output_type": "execute_result"
    }
   ],
   "source": [
    "car.shape"
   ]
  },
  {
   "cell_type": "code",
   "execution_count": 7,
   "metadata": {},
   "outputs": [
    {
     "name": "stdout",
     "output_type": "stream",
     "text": [
      "<class 'pandas.core.frame.DataFrame'>\n",
      "RangeIndex: 16734 entries, 0 to 16733\n",
      "Data columns (total 12 columns):\n",
      " #   Column             Non-Null Count  Dtype  \n",
      "---  ------             --------------  -----  \n",
      " 0   Brand              16733 non-null  object \n",
      " 1   Year               16733 non-null  float64\n",
      " 2   Model              16733 non-null  object \n",
      " 3   Title              16733 non-null  object \n",
      " 4   UsedOrNew          16733 non-null  object \n",
      " 5   Transmission       16733 non-null  object \n",
      " 6   FuelType           16733 non-null  object \n",
      " 7   Kilometres         16733 non-null  object \n",
      " 8   ColourExtInt       16733 non-null  object \n",
      " 9   CylindersinEngine  16733 non-null  object \n",
      " 10  BodyType           16452 non-null  object \n",
      " 11  Price              16731 non-null  object \n",
      "dtypes: float64(1), object(11)\n",
      "memory usage: 1.5+ MB\n"
     ]
    }
   ],
   "source": [
    "car.info()"
   ]
  },
  {
   "cell_type": "markdown",
   "metadata": {},
   "source": [
    "# Data Cleaning Process"
   ]
  },
  {
   "cell_type": "markdown",
   "metadata": {},
   "source": [
    "\n",
    "\n",
    "\n",
    "\n",
    "#### Drop NaN value from all columns"
   ]
  },
  {
   "cell_type": "code",
   "execution_count": 8,
   "metadata": {},
   "outputs": [],
   "source": [
    "car.dropna(inplace=True)"
   ]
  },
  {
   "cell_type": "markdown",
   "metadata": {},
   "source": [
    "#### Brand column"
   ]
  },
  {
   "cell_type": "code",
   "execution_count": 9,
   "metadata": {},
   "outputs": [
    {
     "data": {
      "text/plain": [
       "array(['Ssangyong', 'MG', 'BMW', 'Mercedes-Benz', 'Renault', 'Toyota',\n",
       "       'Land', 'Nissan', 'Honda', 'Volkswagen', 'Mitsubishi', 'Ford',\n",
       "       'Subaru', 'Hyundai', 'Jeep', 'Volvo', 'Mazda', 'Abarth', 'Holden',\n",
       "       'Audi', 'Kia', 'Mini', 'Peugeot', 'Suzuki', 'Dodge', 'Porsche',\n",
       "       'Isuzu', 'Lexus', 'Jaguar', 'Rolls-Royce', 'Skoda', 'Fiat',\n",
       "       'Haval', 'Citroen', 'LDV', 'HSV', 'Foton', 'Mahindra', 'Maserati',\n",
       "       'Alfa', 'GWM', 'Ram', 'Tesla', 'Genesis', 'Chrysler', 'Great',\n",
       "       'Opel', 'Bentley', 'Rover', 'Ferrari', 'Cupra', 'Chevrolet',\n",
       "       'Lamborghini', 'FPV', 'McLaren', 'Chery', 'Iveco', 'Infiniti',\n",
       "       'BYD', 'Tata', 'Aston', 'Daewoo', 'Saab', 'Proton', 'Smart',\n",
       "       'Daihatsu', 'Ineos', 'Caterham', 'Hino', 'International', 'Lotus',\n",
       "       'Polestar'], dtype=object)"
      ]
     },
     "execution_count": 9,
     "metadata": {},
     "output_type": "execute_result"
    }
   ],
   "source": [
    "car['Brand'].unique()"
   ]
  },
  {
   "cell_type": "markdown",
   "metadata": {},
   "source": [
    "#### Year column"
   ]
  },
  {
   "cell_type": "code",
   "execution_count": 10,
   "metadata": {},
   "outputs": [
    {
     "data": {
      "text/plain": [
       "array([2022., 2011., 2004., 2017., 2000., 2013., 2014., 2009., 2018.,\n",
       "       2016., 2012., 2023., 2005., 2015., 2019., 2021., 2007., 2010.,\n",
       "       2003., 2008., 2006., 2020., 1999., 2002., 1995., 1997., 2001.,\n",
       "       1998., 1985., 1992., 1986., 1996., 1994., 1990., 1993., 1981.,\n",
       "       1991., 1989., 1959., 1984., 1978.])"
      ]
     },
     "execution_count": 10,
     "metadata": {},
     "output_type": "execute_result"
    }
   ],
   "source": [
    "car['Year'].unique()"
   ]
  },
  {
   "cell_type": "markdown",
   "metadata": {},
   "source": [
    "#### Convert Year type from (object) to (int)"
   ]
  },
  {
   "cell_type": "code",
   "execution_count": 11,
   "metadata": {},
   "outputs": [],
   "source": [
    "car['Year'] = car['Year'].astype(int)"
   ]
  },
  {
   "cell_type": "markdown",
   "metadata": {},
   "source": [
    "####  Model Column"
   ]
  },
  {
   "cell_type": "code",
   "execution_count": 12,
   "metadata": {},
   "outputs": [
    {
     "data": {
      "text/plain": [
       "array(['Rexton', 'MG3', '430I', 'E500', 'Arkana', 'Estima', 'Rover',\n",
       "       'Pulsar', '86', 'Jazz', 'HiAce', 'Golf', 'X3', 'Outlander', '118D',\n",
       "       'Fiesta', 'Amarok', 'Outback', 'Mirage', 'Camry', 'I45',\n",
       "       'Territory', 'Qashqai', 'T-Cross', 'Tucson', 'Focus', 'X-Trail',\n",
       "       'Corolla', 'Yaris', 'Grand', 'Patriot', 'S60', 'Triton', 'E250',\n",
       "       'A250', 'CX-5', 'Falcon', '595', 'CR-V', 'I30', '6', 'Kluger',\n",
       "       'Santa', 'Cascada', 'ML320', 'Lancer', 'A5', 'RIO', 'Cherokee',\n",
       "       'Tiguan', 'ASX', '220I', '3', 'Imax', 'XV', 'Cooper', '308',\n",
       "       'Commodore', 'I20', 'BT-50', 'Vezel', 'CX-7', 'Renegade',\n",
       "       'Elgrand', 'Impreza', 'X4', '118I', 'Q7', 'Celerio', 'Liberty',\n",
       "       'C-HR', 'Forester', 'CX-3', 'City', 'Cruze', 'RAV4', 'CLC200',\n",
       "       'Journey', 'Caddy', 'Civic', 'Compass', 'CX-9', 'Ranger',\n",
       "       'Captiva', '2', 'M135I', '330I', 'Q3', 'Accent', 'B-Class',\n",
       "       'Sportage', 'Cayenne', 'Cayman', 'Swift', 'Navara', 'Hilux',\n",
       "       'Venue', 'X1', 'Veloster', 'M4', 'Transit', 'Trax', 'Cerato',\n",
       "       'RS3', 'C200', 'D-MAX', 'A200', 'Puma', 'Sorento', 'MU-X', 'IS350',\n",
       "       'Stinger', 'Landcruiser', 'A3', 'Trafic', '208', 'HR-V', 'A4',\n",
       "       'Accord', 'SQ5', 'CLK-Class', 'IS300', 'XF', 'Polo', 'ZS', 'M140I',\n",
       "       'Pajero', 'Q2', '218I', 'Patrol', 'Passat', 'Megane', 'Ghost',\n",
       "       'Crafter', 'Tarago', 'Iload', 'Rodeo', '320D', 'Astra', 'Colorado',\n",
       "       'Octavia', 'UX200', 'Rapid', 'Picanto', 'Carnival', 'ZST',\n",
       "       'Calais', '500', 'GLA250', 'H9', 'Q5', 'V60', 'Stonic', 'RX300',\n",
       "       'Land', 'Vitara', 'Clubman', 'C4', '2008', 'Acadia', 'Barina',\n",
       "       'C220', 'C250', 'Alphard', 'Mustang', 'Elantra', 'Macan', 'Kona',\n",
       "       'Xc', 'X5', 'Pathfinder', 'E2000', 'C43', '320I', 'S3', 'M5',\n",
       "       'Glb', 'WRX', 'Dualis', 'RX350', 'IX35', 'Viva', 'Stagea', 'GLC43',\n",
       "       'Commander', 'Almera', 'Noah', 'C30', 'Multivan', 'Kuga',\n",
       "       'C-CLASS', 'R8', 'GR', 'Koleos', 'G10', 'Ractis', 'Touareg',\n",
       "       'Escape', 'IS250C', 'Ioniq', '4', '116I', 'GLC300', 'SQ7',\n",
       "       'Eclipse', 'Mondeo', 'RX350L', 'Clubsport', 'Hiace', 'Aurion',\n",
       "       'T60', 'Transporter', 'Celica', 'Tunland', 'PIK-UP', '420I',\n",
       "       'Kamiq', 'M-Class', 'RX450H', 'Serena', 'GTS', 'AMG', 'CLA250',\n",
       "       'Ghibli', 'Fabia', 'Romeo', 'Voxy', 'Optima', '328I', 'Caravan',\n",
       "       'SP23', 'XC60', 'Z4', 'Tank', 'M2', 'A7', 'A1', 'F-Pace', 'ML350',\n",
       "       'Juke', 'Echo', 'C63', 'X6', '1500', 'C300', 'Model', 'GLE63',\n",
       "       'Sonata', 'B180', 'Statesman', 'Altima', 'Superb', 'LS460',\n",
       "       'T-ROC', 'I40', 'ORA', '225I', 'Everest', 'Kangoo', 'CLA45',\n",
       "       'ES250', 'Note', 'A45', 'E200', 'Sprinter', 'RX450HL', 'A6', 'UTE',\n",
       "       '330D', 'Caprice', 'V40', 'GV80', 'Niro', 'Staria', 'BRZ',\n",
       "       'Odyssey', 'FJ', 'Countryman', 'ES350', '300', '3D', 'Wrangler',\n",
       "       'Rav', 'Ducato', 'NX300H', 'GS450H', 'Baleno', '508', 'Ignis',\n",
       "       'NX300', '3008', 'V80', 'Delica', 'I8', 'CLS250', 'XC90', 'GLA45',\n",
       "       'RCZ', 'CLA', 'M240I', 'HS', 'GLC', 'Wall', '380', 'Ecosport',\n",
       "       'RS4', 'GLE', 'M340I', 'MPV', 'Prius', 'Haval', 'Taycan', 'ML63',\n",
       "       'Combo', 'RS', 'GLA35', 'Sebring', 'GT40', '428I', 'Granvia',\n",
       "       'M235I', '1', 'E350', 'Rondo', 'Challenger', 'Karoq', 'Other',\n",
       "       'B200', 'Convertible', 'Fortuner', '435I', 'S5', '230I', 'Maxima',\n",
       "       'E55', 'DS3', 'TT', 'E400', 'DS4', 'Legacy', 'EOS', 'Captur',\n",
       "       'GLC250', 'Arteon', 'Getz', 'Fit', 'MX-5', 'Kodiaq', 'A8', '320CI',\n",
       "       'Grancabrio', 'S40', 'Festiva', 'Express', 'CX-30', 'NX250', 'S4',\n",
       "       'Jetta', 'Alto', '4008', 'RS6', 'CT', 'Mulsanne', 'Mini',\n",
       "       'Trailblazer', 'Freemont', 'F', 'IS300H', 'Panda', 'Gladiator',\n",
       "       'ML400', 'B2500', '500X', 'CLS53', 'Micra', 'Clio', '360', 'NX',\n",
       "       'Scirocco', 'GLA180', 'G10+', 'Every', 'Formentor', 'XC40',\n",
       "       'ES300H', 'XE', 'X2', 'Gtsr', 'NX200T', 'Silverado', '5', 'IX',\n",
       "       'GV70', 'Levante', 'Carry', 'Urus', 'SX4', 'RX', 'X7', 'S450',\n",
       "       'ML250', 'Quattroporte', 'NX350H', 'Viano', 'Deliver', 'Cube',\n",
       "       'G-Class', '323', '218D', '135I', 'F6', 'IS250', 'Xjsc', 'Endura',\n",
       "       'Leaf', 'A180', 'CLK320', 'M3', 'Monaro', 'MX-30', 'GLE350',\n",
       "       '720S', 'Continental', 'Crewman', 'GL500', 'Seltos', 'E-Pace',\n",
       "       'Ateca', 'S350', 'CX-8', 'RS5', 'Crosstrek', 'GLC63', 'Fairmont',\n",
       "       '540C', 'Coupe', 'A-CLASS', 'Fairlane', 'Vellfire', 'GLC200',\n",
       "       'Mifa', 'F-Type', 'CLA200', 'J3', 'LX570', 'G63', 'LC500',\n",
       "       'Master', 'Levorg', 'Scala', '911', 'E63', 'S65', 'Palisade',\n",
       "       'Jimny', 'Boxster', 'GLE400', 'XL-7', 'Q8', '650S', 'Sambar',\n",
       "       'Skyline', 'F250', 'Expert', 'M8', 'X', 'LX500D', '128TI', '740I',\n",
       "       'V250', 'Nitro', 'RC350', 'SL55', 'E-Tron', 'RX-8', 'Tribeca',\n",
       "       '370Z', 'Equinox', 'Jackaroo', 'R300', '220D', 'RX270', 'GT-R',\n",
       "       'Laguna', 'Airtrek', 'X250', 'Mark', 'Murano', '125I', 'Corvette',\n",
       "       'Tiida', 'F430', 'Avensis', 'Panamera', 'Valente', 'SLC', 'EQA',\n",
       "       'GLE300', 'XUV500', 'S-Cross', '228I', 'GLA', 'MB100', 'Vito',\n",
       "       'D90', 'RX330', 'Tribute', 'Musso', '718', 'Roadster', 'Magna',\n",
       "       'A190', 'Caravelle', 'RC200T', 'E300', 'E240', 'RC', 'Integra',\n",
       "       'Z', 'Jolion', 'GTC4', 'Granturismo', 'Terracan', 'Daily', 'M6',\n",
       "       'Courier', 'Steed', 'S63', 'Roomster', '318I', 'C180', 'SQ2',\n",
       "       'Korando', 'Crown', '5008', 'F450', 'E220', 'Kizashi', 'GLC220',\n",
       "       'GLC350', 'Pursuit', 'RX500H', 'V', 'Marco', 'C5', 'Tundra', 'C3',\n",
       "       'G350', 'CLS500', 'Beetle', 'Senator', 'Stavic', 'I4', 'H6',\n",
       "       'V240', 'Colt', 'Trajet', 'C230', '307', 'Doblo', '335I', '695',\n",
       "       '300C', 'H8', 'Adventra', 'LX600', 'S450L', '330CI', 'CR-Z',\n",
       "       '323I', 'Cabrio', 'IS200T', 'CLK63', 'CT200H', 'Berlingo',\n",
       "       'Omoda5', 'Supra', 'H2', 'CLS350', 'R-Class', 'California',\n",
       "       'GLS350', 'Vectra', 'Genesis', 'ES300', 'GL63', 'G70', 'Ute',\n",
       "       'GLS500', 'K2700', 'SC430', 'Q50', 'Paceman', 'GLA200', 'Avalon',\n",
       "       'Atto', '520D', 'Corsa', 'EQB', 'XUV700', 'G80', '340I', 'Spectra',\n",
       "       'A35', 'GS350', 'GLE450', 'GLA220', 'GLS', 'B250', 'EQS53',\n",
       "       'S-Class', 'UX', 'EQC', 'Actyon', 'C350', 'Malibu', 'Maloo', 'XKR',\n",
       "       'XC70', 'GL320', 'CLK500', '407', 'Soul', '570S', 'Aventador',\n",
       "       'Viper', 'XJ8', '207', '530I', 'CC', '612', '120D', 'E53', 'EV6',\n",
       "       '740LI', 'NX350', 'Caldina', 'Arnage', 'Q60', '525I', '420D',\n",
       "       'ML500', '121', 'Maybach', 'LX470', 'Maverick', 'Xenon', 'MG6',\n",
       "       'SL350', 'APV', 'Martin', 'GLB', '730D', 'CLA35', 'X350', 'I-Pace',\n",
       "       '5D', 'Lanos', 'Regius', '2500', '120I', 'Verada', 'X200', 'R320',\n",
       "       'Avalanche', 'GLE250', 'PT', 'J11', 'CLK280', '316I', 'C40',\n",
       "       '3-Sep', 'Laser', 'GS250', 'LX450D', 'Prius-C', 'Coaster', 'ML300',\n",
       "       'Grange', 'S16', 'Scudo', 'Kadjar', 'Cooper_Countryman', '530D',\n",
       "       '350Z', 'E-CLASS', '325I', 'I3', 'GR86', 'GLE43', 'Punto', 'SQ8',\n",
       "       'V50', 'Fortwo', 'Epica', 'Hijet', 'GT', 'Mazda3', 'T3',\n",
       "       'Grenadier', 'Mazda2', 'Seven', 'FTS', 'NLS', 'Stralis', 'Prostar',\n",
       "       'FYJ', 'FSR', 'CX-90', 'NNR', 'NLR', '700', 'NMR', 'Edeliver',\n",
       "       'Alpina', 'Evora', '600LT', 'Eurocargo', 'GV60', 'GLE53', 'ZR-V',\n",
       "       'LS500H', '8', '812', 'FVD', 'FYX', 'Trucks', 'FVL', 'NQR',\n",
       "       'Elise', 'FRD', 'Sx4', '520I', 'NPR', 'Aumark', '530E', 'CX-60',\n",
       "       '250', 'FRR', 'M440I', '560', 'LS500', 'Born', 'GL-Class', 'Spark',\n",
       "       'A170', 'Midget', 'SL500', '300ZX', 'Sierra', 'HDT', '180',\n",
       "       'Silvia', 'Mr', 'Leon', 'CX30', 'SLK350', 'NV350', 'Fuso', 'S430',\n",
       "       '420', 'B4000', 'Scorpio-N', 'E20', '190'], dtype=object)"
      ]
     },
     "execution_count": 12,
     "metadata": {},
     "output_type": "execute_result"
    }
   ],
   "source": [
    "car['Model'].unique()"
   ]
  },
  {
   "cell_type": "code",
   "execution_count": 13,
   "metadata": {},
   "outputs": [
    {
     "name": "stdout",
     "output_type": "stream",
     "text": [
      "       Brand  Year  Model                                              Title  \\\n",
      "197    Isuzu  2017  D-MAX                2017 Isuzu D-MAX LS-M HI-Ride (4X4)   \n",
      "378    Isuzu  2013  D-MAX                          2013 Isuzu D-MAX SX (4X2)   \n",
      "380    Isuzu  2016  D-MAX                          2016 Isuzu D-MAX SX (4X4)   \n",
      "600    Isuzu  2017  D-MAX                          2017 Isuzu D-MAX SX (4X2)   \n",
      "977    Isuzu  2016  D-MAX                       2016 Isuzu D-MAX SX Crew Cab   \n",
      "...      ...   ...    ...                                                ...   \n",
      "16179  Isuzu  2015  D-MAX  2015 Isuzu D-MAX SX Utility Crew Cab 4dr Man 5...   \n",
      "16395  Isuzu  2013  D-MAX                       2013 Isuzu D-MAX SX Crew Cab   \n",
      "16490  Isuzu  2016  D-MAX                          2016 Isuzu D-MAX SX (4X4)   \n",
      "16508  Isuzu  2021  D-MAX                          2021 Isuzu D-MAX SX (4X4)   \n",
      "16522  Isuzu  2021  D-MAX                          2021 Isuzu D-MAX SX (4X2)   \n",
      "\n",
      "      UsedOrNew Transmission FuelType Kilometres         ColourExtInt  \\\n",
      "197        USED    Automatic   Diesel     192988            White / -   \n",
      "378        USED       Manual   Diesel     223907            White / -   \n",
      "380        USED    Automatic   Diesel     310215  White / Grey  Cloth   \n",
      "600        USED       Manual   Diesel       6532        White / Black   \n",
      "977        USED    Automatic   Diesel     179062                - / -   \n",
      "...         ...          ...      ...        ...                  ...   \n",
      "16179      USED       Manual        -     135448            White / -   \n",
      "16395      USED    Automatic   Diesel     127805         White / Grey   \n",
      "16490      USED    Automatic   Diesel      85211        White / Black   \n",
      "16508      USED    Automatic   Diesel      36741            White / -   \n",
      "16522      USED       Manual   Diesel      16000            White / -   \n",
      "\n",
      "      CylindersinEngine    BodyType  Price  \n",
      "197               4 cyl  Ute / Tray  28999  \n",
      "378               4 cyl  Ute / Tray  14913  \n",
      "380               4 cyl  Ute / Tray  21990  \n",
      "600               4 cyl  Ute / Tray  35888  \n",
      "977                   -  Ute / Tray  32950  \n",
      "...                 ...         ...    ...  \n",
      "16179                 -  Ute / Tray  23990  \n",
      "16395                 -  Ute / Tray  29950  \n",
      "16490             4 cyl  Ute / Tray  30990  \n",
      "16508             4 cyl  Ute / Tray  56998  \n",
      "16522             4 cyl  Ute / Tray  35900  \n",
      "\n",
      "[130 rows x 12 columns]\n"
     ]
    }
   ],
   "source": [
    "selected_rows = car[car['Model'] == 'D-MAX']\n",
    "print(selected_rows)"
   ]
  },
  {
   "cell_type": "markdown",
   "metadata": {},
   "source": [
    "#### Title Column"
   ]
  },
  {
   "cell_type": "code",
   "execution_count": 14,
   "metadata": {},
   "outputs": [
    {
     "data": {
      "text/plain": [
       "array(['2022 Ssangyong Rexton Ultimate (awd)',\n",
       "       '2022 MG MG3 Auto Excite (with Navigation)',\n",
       "       '2022 BMW 430I M Sport', ..., '2014 Nissan X-Trail TL (4X4)',\n",
       "       '2014 Toyota Alphard', '2021 Mercedes-Benz C200'], dtype=object)"
      ]
     },
     "execution_count": 14,
     "metadata": {},
     "output_type": "execute_result"
    }
   ],
   "source": [
    "car['Title'].unique()"
   ]
  },
  {
   "cell_type": "markdown",
   "metadata": {},
   "source": [
    "#### Get the string value in length(1,4)"
   ]
  },
  {
   "cell_type": "code",
   "execution_count": 15,
   "metadata": {},
   "outputs": [],
   "source": [
    "car['Title']=car['Title'].str.split().str.slice(start=1,stop=4).str.join(' ')\n"
   ]
  },
  {
   "cell_type": "code",
   "execution_count": 16,
   "metadata": {},
   "outputs": [
    {
     "data": {
      "text/plain": [
       "array(['Ssangyong Rexton Ultimate', 'MG MG3 Auto', 'BMW 430I M', ...,\n",
       "       'Toyota Corolla HYBRID', 'Mercedes-Benz Sprinter 313',\n",
       "       'Mitsubishi Outlander ES-15'], dtype=object)"
      ]
     },
     "execution_count": 16,
     "metadata": {},
     "output_type": "execute_result"
    }
   ],
   "source": [
    "car['Title'].unique()"
   ]
  },
  {
   "cell_type": "markdown",
   "metadata": {},
   "source": [
    "#### UsedOrNew column"
   ]
  },
  {
   "cell_type": "code",
   "execution_count": 17,
   "metadata": {},
   "outputs": [
    {
     "data": {
      "text/plain": [
       "array(['DEMO', 'USED', 'NEW'], dtype=object)"
      ]
     },
     "execution_count": 17,
     "metadata": {},
     "output_type": "execute_result"
    }
   ],
   "source": [
    "car['UsedOrNew'].unique()"
   ]
  },
  {
   "cell_type": "code",
   "execution_count": 18,
   "metadata": {},
   "outputs": [
    {
     "name": "stdout",
     "output_type": "stream",
     "text": [
      "The count of 'your_specific_value' in 'column_name' is: 14729\n"
     ]
    }
   ],
   "source": [
    "count_specific_value = car['UsedOrNew'].value_counts()['USED']\n",
    "\n",
    "print(f\"The count of 'your_specific_value' in 'column_name' is: {count_specific_value}\")"
   ]
  },
  {
   "cell_type": "code",
   "execution_count": 19,
   "metadata": {},
   "outputs": [
    {
     "name": "stdout",
     "output_type": "stream",
     "text": [
      "           Brand  Year       Model                      Title UsedOrNew  \\\n",
      "0      Ssangyong  2022      Rexton  Ssangyong Rexton Ultimate      DEMO   \n",
      "286           MG  2022          ZS               MG ZS Excite      DEMO   \n",
      "654          BMW  2023          X4                   BMW X4 M      DEMO   \n",
      "833          GWM  2023        Tank               GWM Tank 300      DEMO   \n",
      "862         Audi  2023          A1                 Audi A1 35      DEMO   \n",
      "...          ...   ...         ...                        ...       ...   \n",
      "16639      Mazda  2023       BT-50             Mazda BT-50 XT      DEMO   \n",
      "16678      Mazda  2022        CX-9         Mazda CX-9 Touring      DEMO   \n",
      "16703     Nissan  2022  Pathfinder       Nissan Pathfinder TI      DEMO   \n",
      "16725         MG  2022          HS                 MG HS Phev      DEMO   \n",
      "16731     Suzuki  2022      Vitara         Suzuki Vitara 1.6L      DEMO   \n",
      "\n",
      "      Transmission  FuelType Kilometres  \\\n",
      "0        Automatic    Diesel       5595   \n",
      "286      Automatic  Unleaded         15   \n",
      "654      Automatic   Premium       1589   \n",
      "833      Automatic         -        228   \n",
      "862      Automatic   Premium       2100   \n",
      "...            ...       ...        ...   \n",
      "16639    Automatic    Diesel       3980   \n",
      "16678    Automatic  Unleaded       4890   \n",
      "16703    Automatic   Premium       1888   \n",
      "16725    Automatic    Hybrid       6156   \n",
      "16731    Automatic  Unleaded       5165   \n",
      "\n",
      "                                ColourExtInt CylindersinEngine    BodyType  \\\n",
      "0                              White / Black             4 cyl         SUV   \n",
      "286    Blue / Knight Black Synthetic Leather             4 cyl         SUV   \n",
      "654                   Black / Merino Leather                 -       Wagon   \n",
      "833                           Orange / Black             4 cyl         SUV   \n",
      "862                            Black / Black             4 cyl   Hatchback   \n",
      "...                                      ...               ...         ...   \n",
      "16639                              White / -             4 cyl  Ute / Tray   \n",
      "16678                               Grey / -             4 cyl         SUV   \n",
      "16703                         Silver / Black             6 cyl         SUV   \n",
      "16725                              White / -             4 cyl         SUV   \n",
      "16731                             Yellow / -             4 cyl         SUV   \n",
      "\n",
      "        Price  \n",
      "0       51990  \n",
      "286     23690  \n",
      "654    189990  \n",
      "833     51585  \n",
      "862     51288  \n",
      "...       ...  \n",
      "16639   49990  \n",
      "16678   52300  \n",
      "16703   78456  \n",
      "16725   46990  \n",
      "16731   35280  \n",
      "\n",
      "[506 rows x 12 columns]\n"
     ]
    }
   ],
   "source": [
    "selected_rows = car[car['UsedOrNew'] == 'DEMO']\n",
    "print(selected_rows)"
   ]
  },
  {
   "cell_type": "markdown",
   "metadata": {},
   "source": [
    "#### Transmission column"
   ]
  },
  {
   "cell_type": "code",
   "execution_count": 20,
   "metadata": {},
   "outputs": [
    {
     "data": {
      "text/plain": [
       "array(['Automatic', 'Manual', '-'], dtype=object)"
      ]
     },
     "execution_count": 20,
     "metadata": {},
     "output_type": "execute_result"
    }
   ],
   "source": [
    "car['Transmission'].unique()"
   ]
  },
  {
   "cell_type": "code",
   "execution_count": 21,
   "metadata": {},
   "outputs": [
    {
     "name": "stdout",
     "output_type": "stream",
     "text": [
      "The count of 'your_specific_value' in 'column_name' is: 188\n"
     ]
    }
   ],
   "source": [
    "count_specific_value = car['Transmission'].value_counts()['-']\n",
    "\n",
    "print(f\"The count of 'your_specific_value' in 'column_name' is: {count_specific_value}\")"
   ]
  },
  {
   "cell_type": "markdown",
   "metadata": {},
   "source": [
    "#### Replace '-' with 'Automatc' "
   ]
  },
  {
   "cell_type": "code",
   "execution_count": 22,
   "metadata": {},
   "outputs": [],
   "source": [
    "car['Transmission']=car['Transmission'].str.replace('-','Automatic')"
   ]
  },
  {
   "cell_type": "code",
   "execution_count": 23,
   "metadata": {},
   "outputs": [
    {
     "data": {
      "text/plain": [
       "array(['Automatic', 'Manual'], dtype=object)"
      ]
     },
     "execution_count": 23,
     "metadata": {},
     "output_type": "execute_result"
    }
   ],
   "source": [
    "car['Transmission'].unique()"
   ]
  },
  {
   "cell_type": "code",
   "execution_count": 24,
   "metadata": {},
   "outputs": [
    {
     "name": "stdout",
     "output_type": "stream",
     "text": [
      "<class 'pandas.core.frame.DataFrame'>\n",
      "Index: 16450 entries, 0 to 16733\n",
      "Data columns (total 12 columns):\n",
      " #   Column             Non-Null Count  Dtype \n",
      "---  ------             --------------  ----- \n",
      " 0   Brand              16450 non-null  object\n",
      " 1   Year               16450 non-null  int32 \n",
      " 2   Model              16450 non-null  object\n",
      " 3   Title              16450 non-null  object\n",
      " 4   UsedOrNew          16450 non-null  object\n",
      " 5   Transmission       16450 non-null  object\n",
      " 6   FuelType           16450 non-null  object\n",
      " 7   Kilometres         16450 non-null  object\n",
      " 8   ColourExtInt       16450 non-null  object\n",
      " 9   CylindersinEngine  16450 non-null  object\n",
      " 10  BodyType           16450 non-null  object\n",
      " 11  Price              16450 non-null  object\n",
      "dtypes: int32(1), object(11)\n",
      "memory usage: 1.6+ MB\n"
     ]
    }
   ],
   "source": [
    "car.info()"
   ]
  },
  {
   "cell_type": "markdown",
   "metadata": {},
   "source": [
    "#### Count and drop duplicated row"
   ]
  },
  {
   "cell_type": "code",
   "execution_count": 25,
   "metadata": {},
   "outputs": [
    {
     "data": {
      "text/plain": [
       "9"
      ]
     },
     "execution_count": 25,
     "metadata": {},
     "output_type": "execute_result"
    }
   ],
   "source": [
    "car.duplicated().sum()"
   ]
  },
  {
   "cell_type": "code",
   "execution_count": 26,
   "metadata": {},
   "outputs": [],
   "source": [
    "car= car.drop_duplicates()"
   ]
  },
  {
   "cell_type": "markdown",
   "metadata": {},
   "source": [
    "#### Check FuelType column"
   ]
  },
  {
   "cell_type": "code",
   "execution_count": 27,
   "metadata": {},
   "outputs": [
    {
     "data": {
      "text/plain": [
       "array(['Diesel', 'Premium', 'Unleaded', 'Hybrid', '-', 'Other',\n",
       "       'Electric', 'LPG', 'Leaded'], dtype=object)"
      ]
     },
     "execution_count": 27,
     "metadata": {},
     "output_type": "execute_result"
    }
   ],
   "source": [
    "car['FuelType'].unique()"
   ]
  },
  {
   "cell_type": "code",
   "execution_count": 28,
   "metadata": {},
   "outputs": [
    {
     "name": "stdout",
     "output_type": "stream",
     "text": [
      "The count of 'your_specific_value' in 'column_name' is: 523\n"
     ]
    }
   ],
   "source": [
    "count_specific_value = car['FuelType'].value_counts()['-']\n",
    "\n",
    "print(f\"The count of 'your_specific_value' in 'column_name' is: {count_specific_value}\")"
   ]
  },
  {
   "cell_type": "code",
   "execution_count": 29,
   "metadata": {},
   "outputs": [],
   "source": [
    "# Drop rows which contained '-'\n",
    "car.drop(car[car['FuelType'] == '-'].index, inplace=True)\n"
   ]
  },
  {
   "cell_type": "code",
   "execution_count": 30,
   "metadata": {},
   "outputs": [
    {
     "data": {
      "text/plain": [
       "array(['Diesel', 'Premium', 'Unleaded', 'Hybrid', 'Other', 'Electric',\n",
       "       'LPG', 'Leaded'], dtype=object)"
      ]
     },
     "execution_count": 30,
     "metadata": {},
     "output_type": "execute_result"
    }
   ],
   "source": [
    "car['FuelType'].unique()"
   ]
  },
  {
   "cell_type": "markdown",
   "metadata": {},
   "source": [
    "#### Check Kilometres column"
   ]
  },
  {
   "cell_type": "code",
   "execution_count": 31,
   "metadata": {},
   "outputs": [
    {
     "data": {
      "text/plain": [
       "array(['5595', '16', '8472', ..., '5165', '85525', '31852'], dtype=object)"
      ]
     },
     "execution_count": 31,
     "metadata": {},
     "output_type": "execute_result"
    }
   ],
   "source": [
    "car['Kilometres'].unique()"
   ]
  },
  {
   "cell_type": "code",
   "execution_count": 32,
   "metadata": {},
   "outputs": [
    {
     "name": "stdout",
     "output_type": "stream",
     "text": [
      "            Brand  Year  Model                Title UsedOrNew Transmission  \\\n",
      "14767      Toyota  2023  HiAce    Toyota HiAce Slwb       NEW    Automatic   \n",
      "14769        Land  2023  Rover  Land Rover Defender       NEW    Automatic   \n",
      "14771       Mazda  2023      6          Mazda 6 G25       NEW    Automatic   \n",
      "14775  Mitsubishi  2023    ASX    Mitsubishi ASX GS       NEW    Automatic   \n",
      "14779         Kia  2023    EV6          Kia EV6 AIR       NEW    Automatic   \n",
      "...           ...   ...    ...                  ...       ...          ...   \n",
      "15506       Iveco  2023  Daily       Iveco Daily E6       NEW    Automatic   \n",
      "15509       Iveco  2023  Daily       Iveco Daily E6       NEW       Manual   \n",
      "15511       Iveco  2023  Daily       Iveco Daily E6       NEW    Automatic   \n",
      "15514       Iveco  2023  Daily       Iveco Daily E6       NEW    Automatic   \n",
      "15517       Iveco  2023  Daily       Iveco Daily E6       NEW    Automatic   \n",
      "\n",
      "       FuelType Kilometres            ColourExtInt CylindersinEngine  \\\n",
      "14767    Diesel      - / -  5 years / Unlimited km             4 cyl   \n",
      "14769    Diesel      - / -  5 years / Unlimited km             6 cyl   \n",
      "14771  Unleaded      - / -  5 years / Unlimited km             4 cyl   \n",
      "14775  Unleaded      - / -  5 years / Unlimited km             4 cyl   \n",
      "14779  Electric      - / -  7 years / Unlimited km               0 L   \n",
      "...         ...        ...                     ...               ...   \n",
      "15506    Diesel      - / -    3 years / 200,000 km             4 cyl   \n",
      "15509    Diesel      - / -    3 years / 200,000 km             4 cyl   \n",
      "15511    Diesel      - / -    3 years / 200,000 km             4 cyl   \n",
      "15514    Diesel      - / -    3 years / 200,000 km             4 cyl   \n",
      "15517    Diesel      - / -    3 years / 200,000 km             4 cyl   \n",
      "\n",
      "           BodyType  Price  \n",
      "14767  People Mover  69760  \n",
      "14769           SUV  97700  \n",
      "14771         Wagon  36840  \n",
      "14775           SUV  26240  \n",
      "14779           SUV  72590  \n",
      "...             ...    ...  \n",
      "15506    Ute / Tray  71559  \n",
      "15509    Commercial  70202  \n",
      "15511    Ute / Tray  75789  \n",
      "15514    Ute / Tray  83909  \n",
      "15517    Ute / Tray  86714  \n",
      "\n",
      "[406 rows x 12 columns]\n"
     ]
    }
   ],
   "source": [
    "# Display rows where 'Kilometre' is equal to '- / -'\n",
    "selected_rows = car[car['Kilometres'] == '- / -']\n",
    "\n",
    "# Print or inspect the selected rows\n",
    "print(selected_rows)"
   ]
  },
  {
   "cell_type": "code",
   "execution_count": 33,
   "metadata": {},
   "outputs": [
    {
     "name": "stdout",
     "output_type": "stream",
     "text": [
      "            Brand  Year   Model                     Title UsedOrNew  \\\n",
      "2250   Volkswagen  2023  Tiguan  Volkswagen Tiguan 235TSI       NEW   \n",
      "2431      Renault  2023  Koleos     Renault Koleos Intens       NEW   \n",
      "2686   Volkswagen  2022  Passat  Volkswagen Passat 206TSI       NEW   \n",
      "2738   Volkswagen  2022   T-ROC   Volkswagen T-ROC 140TSI       NEW   \n",
      "3002   Volkswagen  2023  Passat  Volkswagen Passat 206TSI       NEW   \n",
      "...           ...   ...     ...                       ...       ...   \n",
      "16603       Mazda  2023    CX-9        Mazda CX-9 Touring       NEW   \n",
      "16629      Suzuki  2022   Swift        Suzuki Swift Sport       NEW   \n",
      "16642      Suzuki  2022   Ignis           Suzuki Ignis GL       NEW   \n",
      "16651      Suzuki  2022   Swift           Suzuki Swift GL       NEW   \n",
      "16661     Hyundai  2023    Kona            Hyundai Kona N       NEW   \n",
      "\n",
      "      Transmission  FuelType Kilometres         ColourExtInt  \\\n",
      "2250     Automatic   Premium          -             Blue / -   \n",
      "2431     Automatic  Unleaded          -            White / -   \n",
      "2686     Automatic   Premium          -             Grey / -   \n",
      "2738     Automatic   Premium          -            White / -   \n",
      "3002     Automatic   Premium          -            White / -   \n",
      "...            ...       ...        ...                  ...   \n",
      "16603    Automatic  Unleaded          -  Red / Black Leather   \n",
      "16629       Manual  Unleaded          -             Blue / -   \n",
      "16642    Automatic   Premium          -              Red / -   \n",
      "16651    Automatic  Unleaded          -             Grey / -   \n",
      "16661    Automatic   Premium          -         Grey / Black   \n",
      "\n",
      "      CylindersinEngine   BodyType  Price  \n",
      "2250              4 cyl        SUV  85990  \n",
      "2431              4 cyl        SUV  46888  \n",
      "2686              4 cyl      Wagon  68990  \n",
      "2738              4 cyl        SUV  52490  \n",
      "3002              4 cyl      Wagon  74990  \n",
      "...                 ...        ...    ...  \n",
      "16603             4 cyl        SUV  60376  \n",
      "16629             4 cyl  Hatchback  34690  \n",
      "16642             4 cyl        SUV  24485  \n",
      "16651             4 cyl  Hatchback  27690  \n",
      "16661             4 cyl        SUV  57600  \n",
      "\n",
      "[106 rows x 12 columns]\n"
     ]
    }
   ],
   "source": [
    "selected_rows = car[car['Kilometres'] == '-']\n",
    "print(selected_rows)"
   ]
  },
  {
   "cell_type": "code",
   "execution_count": 34,
   "metadata": {},
   "outputs": [],
   "source": [
    "# Replace '-' and '- / -' with '0'\n",
    "car['Kilometres']=car['Kilometres'].str.replace('- / -','0')\n",
    "car['Kilometres']=car['Kilometres'].str.replace('-','0')"
   ]
  },
  {
   "cell_type": "code",
   "execution_count": 35,
   "metadata": {},
   "outputs": [],
   "source": [
    "# Convert Kilometres type to (int)\n",
    "car['Kilometres']=car['Kilometres'].astype(int)"
   ]
  },
  {
   "cell_type": "markdown",
   "metadata": {},
   "source": [
    "#### Check ColourExtInt Column"
   ]
  },
  {
   "cell_type": "code",
   "execution_count": 36,
   "metadata": {},
   "outputs": [
    {
     "data": {
      "text/plain": [
       "array(['White / Black', 'Black / Black', 'Grey / White', 'White / Brown',\n",
       "       'Grey / Black', 'Grey / -', 'Red / Grey', 'Black / -', 'Blue / -',\n",
       "       'White / -', 'White / Grey', 'Silver / -', 'Blue / Black',\n",
       "       'Silver / Black', 'Silver / Grey', 'Red / -', 'Black / Tobacco',\n",
       "       'White / Black Cloth', 'Black / Black Cloth',\n",
       "       'Silver / Black Leather', 'Red / Black', 'Red / Black Cloth',\n",
       "       'Grey / Grey', 'Black / Storm Grey', 'White / Grey  Cloth',\n",
       "       'Green / Black', 'Yellow / -', 'Black / Leather',\n",
       "       'Red / Black  Cloth', 'Orange / Grey', 'Gold / Black',\n",
       "       'Silver / Cloth', 'Grey / Black Leather', 'Silver / Beige',\n",
       "       'Black / Grey', 'Yellow / Black', 'Blue / Beige', 'Brown / Black',\n",
       "       'Black / Beige', '- / -', 'Blue / Grey', 'White / Black Leather',\n",
       "       'Grey / Red', 'Green / -', 'Grey / Beige', 'Brown / Grey',\n",
       "       'Gold / -', 'Blue / Knight Black Synthetic Leather',\n",
       "       'Black / Black Leather', '- / Black', '- / Car',\n",
       "       'Brown / Black Leather', 'Gold / Black Leather',\n",
       "       'Black / Cream Leather', 'Red / Red', 'White / Two Tone Leather',\n",
       "       'Gold / Grey', 'White / Beige', 'Brown / -', 'Silver / Grey Cloth',\n",
       "       'Orange / -', '- / Black Leather', 'Green / Beige',\n",
       "       'Grey / Black Cloth', 'White / Black & Grey Cloth',\n",
       "       'Blue / Black Partial Leather', 'White / Grey Cloth',\n",
       "       'White / Cloth', 'Blue / Leather', 'White / Rapton',\n",
       "       'White / Leather', 'Silver / Leather', 'Silver / Cream',\n",
       "       'Blue / Bc', 'Grey / Red Leather', 'Gold / Cream',\n",
       "       'Black / Merino Leather', 'White / Dakota Leather',\n",
       "       'Brown / Leather', 'White / Red', 'Blue / Black Leather',\n",
       "       'Silver / Leather Nevada Black', 'Yellow / Grey', '- / By7-L',\n",
       "       'Black / Tan Leather', 'White / Cream Leather',\n",
       "       'White / Black Amg Leather', 'Gold / Beige Leather',\n",
       "       'Red / Leather', 'Yellow / Grey  Cloth',\n",
       "       'Black / Black Alcantara & Sensatec & Contrast Stitching',\n",
       "       'Yellow / Black Leather',\n",
       "       'Grey / Black Alcantara & Sensatec & Contrast Stitching',\n",
       "       'Red / Tartan', 'Brown / Grey Cloth', 'Grey / Black/Cream Leather',\n",
       "       'Grey / F Sport Black/Hadori Aluminium', 'Silver / Black Cloth',\n",
       "       'Purple / -', 'Grey / Blue', 'Red / Car', 'Grey / Grey & Black',\n",
       "       'Silver / Black/Grey', 'White / Black Fabric',\n",
       "       'White / Black/Grey', 'Grey / Classic Grey/Black', 'Grey / Brown',\n",
       "       'Blue / Cloth', 'White / Grege', 'Brown / Beige',\n",
       "       'Silver / Leather Interior With Alcantar', 'White / Dark Grey',\n",
       "       'Blue / Carbon Black', 'Grey / Black/Grey', 'Blue / Biege',\n",
       "       'White / Black One Tone', 'White / Grey Fabric', 'Orange / Black',\n",
       "       'Black / Cloth', 'White / Summit White - Solid',\n",
       "       'Grey / Black Fabric Sports', 'Black / Grey  Cloth',\n",
       "       'Red / Knight Black Synthetic Leather', 'White / Grey Vinyl',\n",
       "       'White / Black-Blue', 'Silver / Black & Grey Cloth', 'White / Car',\n",
       "       'Green / Leather', 'Silver / Black/Beige', 'Grey / Burgundy',\n",
       "       'Blue / Black Fabric',\n",
       "       'White / Leather Interior, Smooth-Finish Leather, Black',\n",
       "       'White / Grey Leather', 'Blue / Grey  Cloth', 'Red / Cloth',\n",
       "       'Black / Black Amg Leather', 'Black / Carbon Black Leatherette',\n",
       "       'White / Sportline', 'Grey / Soul Black', 'Grey / Grey Cloth',\n",
       "       'Grey / Leather', 'Red / Carbon Black Leatherette', 'White / Dark',\n",
       "       'Black / Red', 'Blue / Car', 'Silver / Grey & Black',\n",
       "       'Black / Carbon Black', 'White / Jet Black', 'Grey / Cloth',\n",
       "       'Grey / Titan Black', 'Blue / Black/Grey',\n",
       "       'White / Mini Yours Leather Lounge', 'Black / Black/Grey',\n",
       "       'Silver / Sportline', 'Blue / Black Cloth', 'Silver / Grey  Cloth',\n",
       "       'Blue / Blue', 'Black / Leatherette Carbon B',\n",
       "       'Silver / Brown Leather', 'White / Fabric', 'Grey / Sportline',\n",
       "       'Grey / Beige Leather', 'Red / Sportline',\n",
       "       'Black / Dakota Black Leather', 'Grey / Grey Leather',\n",
       "       'Grey / Black Nappa Leather', 'Silver / Black Dakota Leather',\n",
       "       '- / Grey', 'Grey / Cream', 'White / Titan Black',\n",
       "       'Black / Leather Nevada Black', 'Orange / Black Leather',\n",
       "       'Silver / Nexus Dark Grey', 'Blue / Anthracite & Titanium Black',\n",
       "       'Orange / Black Yellow', 'Blue / Cloth Rapton',\n",
       "       'Black / Knight Black', 'Black / Leather Vernasca Bla',\n",
       "       'Red / Perforated Charcoal Leather', 'White / Rs',\n",
       "       'Red / Burgandy',\n",
       "       'Black / Vernasca Black Leather & Decor Stitching',\n",
       "       'Brown / Biege', 'Black / Black  Cloth', 'Blue / Titanium Black',\n",
       "       'Blue / Knight Black', 'Red / Titanium Black',\n",
       "       'Black / Titan Black', 'White / Knight Black',\n",
       "       'Blue / Charcoal Leather', 'Black / Black Grey',\n",
       "       'White / Petrol Blue', 'White / Nougat Brown', 'White / Charcoal',\n",
       "       'Green / Rs', 'Gold / Biege', 'Grey / Titanium Black Cloth',\n",
       "       'White / Vernasca Black Leather & Decor Stitching',\n",
       "       'Brown / Brown', 'Black / Black / Leather',\n",
       "       \"Grey / Excl.leather 'Nappa' Mocca Excl. S Titching/Leathe\",\n",
       "       'Grey / Interior Design Suite Amido', 'Blue / Blue/Black',\n",
       "       'Green / Grey', 'White / Silver', 'Grey / Black And Cream',\n",
       "       'White / Titanium Black', 'White / Bc', 'Gold / Cream Leather',\n",
       "       'Red / Knight Black', 'Silver / Knight Black',\n",
       "       'Brown / Pistachio Beige', 'White / Walnut Brown Nappa Leather',\n",
       "       'White / Blue/Black', 'Blue / Grey Cloth',\n",
       "       'White / Knight Black Synthetic Leather', 'Grey / Grey  Cloth',\n",
       "       'Grey / Black Leather Sports', 'White / Charcoal Comfort',\n",
       "       'Black / Ebony',\n",
       "       'Silver / Artico Man-Made Leather / Dinamica Microfibre Upholstery Black',\n",
       "       'Silver / Cloth Ray', 'Grey / Amber/Charcoal Perforated Nappa',\n",
       "       'Grey / Asher Gray', 'White / Beige Leather',\n",
       "       'Grey / Charcoal Perforated Nappa Leather/Charcoal',\n",
       "       'White / Titanium Black Austin Cloth', 'Black / Black/Black',\n",
       "       'Black / Blue', 'Silver / Charcoal', 'Grey / Charcoal Leather',\n",
       "       'Black / Beige Leather', 'Grey / R-Design Nubuck',\n",
       "       'White / Black Leather/Suede', 'Green / Cloth',\n",
       "       'Yellow / Atomic - Black', 'Beige / -',\n",
       "       'Grey / Chroma Brown Leather', 'Blue / Black/Black',\n",
       "       'Black / Mini Yours Leather Lounge Carbon Black',\n",
       "       'Blue / Ebony Leather', 'Grey / Burgundy Leather',\n",
       "       'Silver / 74Fb20', 'Black / Burgundy Leather', 'Burgundy / -',\n",
       "       'Silver / 44Fa20', 'Blue / Burgundy Leather', 'Grey / Ebony C',\n",
       "       'Silver / Red Cloth', 'Silver / 2Lle21', 'Green / Tan',\n",
       "       'Red / Leatherette Carbon B', 'Grey / Brown Leather',\n",
       "       'Grey / 9Tld20', 'Red / 9Tld20', 'White / 2Xfl24',\n",
       "       'Silver / Pale Grey Leather', 'Silver / Black/Black',\n",
       "       'White / 44Fa20', 'Red / 7Efa20',\n",
       "       'Black / Tartan Cloth & Knight Synthetic Leather', '- / Brown',\n",
       "       'Silver / 3Sfj20', 'Grey / Paranut Brown/Black Dash 2T',\n",
       "       'White / River Rock Soho Leather', 'Grey / C2Fe20',\n",
       "       'Grey / 2Lle21', 'White / 2Vfa20', 'White / 4Efa20',\n",
       "       'White / 2Zfa20', 'Black / Titanium Black & Crystal Grey',\n",
       "       'Red / 2Xfl24', 'Blue / Silver And Black Silk Nappa',\n",
       "       'White / 40Fa60', 'Grey / 9Meb20', 'Blue / Sportline',\n",
       "       'Blue / Black Current', 'White / Cloth Twist Freedom',\n",
       "       'Silver / Tartan Cloth & Knight Synthetic Leather', 'Red / 74Eb20',\n",
       "       'Grey / 74La20', 'Black / 1Yfj20',\n",
       "       'White / Ebony Seats/Ebony Interior/Ebony Headlining',\n",
       "       'Silver / Black Fabric', 'Black / 2Lle21', 'White / Soul Black',\n",
       "       'Black / Brown', 'Green / Grey  Cloth',\n",
       "       'Black / Extended Partial Leather Interior, Seat Centres In Fabric, Black',\n",
       "       'White / Partial Leather Interior, Black', 'Orange / Black Cloth',\n",
       "       'Grey / Dark', 'Blue / Cream', 'Blue / Black & Grey Cloth',\n",
       "       'Silver / Dark Grey', 'Grey / Black Fabric', 'Gold / Block',\n",
       "       'White / 88H', 'Silver / Silver',\n",
       "       'Red / Black Microsuede & Leather', 'Blue / Black/Grey Cloth',\n",
       "       'White / Khaki', 'Silver / Ebony Leather', 'Grey / Petrol Blue',\n",
       "       'Red / Red Leather', 'White / 42Lh22', 'White / 1Yfk20',\n",
       "       'Black / Soul Black', 'Grey / Black Microsuede & Leatherette',\n",
       "       'White / 1Yla20', 'Silver / Black & Light Grey', 'White / Stoff',\n",
       "       'Blue / Titanium Black Vienna Leather', 'White / 3Lfc20',\n",
       "       'Grey / 42Lh22', 'White / Ebony Leather', 'White / 74Fb20',\n",
       "       'White / Black Maztex/Cloth', 'Purple / Black Leather',\n",
       "       '- / 40Fa60', 'Grey / Titanium Black Cloth & Leather',\n",
       "       'Blue / Black Oak-Ceramique', 'Brown / Red', 'Blue / Black/Green',\n",
       "       'Silver / Charcoal Leather', 'Yellow / Black/Black',\n",
       "       'Black / Titanium Black', 'Gold / Cloth', 'White / Grey / Leather',\n",
       "       'Grey / Black Lugano Leather', 'Blue / Beige Cloth',\n",
       "       'Grey / Black Cloth/Vinyl & Black Interior',\n",
       "       'Grey / Gts Interior Package Crayon', 'Blue / By3',\n",
       "       'White / Titanium Black-Ceramique Cloth', 'Black / Dark Grey',\n",
       "       'Blue / Ebony Windsor Sports Leather/Ebony/Ebony', 'Silver / 24X',\n",
       "       'Red / 3Lfe20', 'White / Black/Cream Leather', 'White / White',\n",
       "       '- / Black Suede & Black Stitching', 'White / 13X',\n",
       "       'White / Sensatec 1', 'Orange / 2Xlg22', 'Black / Tw',\n",
       "       'White / 2Xlg22',\n",
       "       'Silver / Black With Peak Embossing And Black Stitching',\n",
       "       'Green / Cloth/Leather', 'White / 04701', 'Brown / Black/Green',\n",
       "       'Black / Grey Leather', 'White / Black Sports Cloth',\n",
       "       'Orange / Black & Grey Cloth', 'Grey / Cream Leather',\n",
       "       'Black / 5Eea40', 'White / Moon Mist Grey', 'Blue / 7Cfd10',\n",
       "       'White / Black Leather Ventilated Seats With Black Interior And Grey Stitching',\n",
       "       'Red / Red Carpet T', 'White / Burgundy Leather',\n",
       "       'Blue / Club Leather Truffle Brown', 'White / Ebony',\n",
       "       'Green / Black & Grey', 'White / No Descripti', '- / 44Lb20',\n",
       "       'Blue / 74La20', 'Blue / 2018/07', 'White / 1Yfg20',\n",
       "       'White / 2021/04', 'White / 2019/07', 'Grey / Black And Blue',\n",
       "       'White / 2019/04', 'White / Titanium Black Vienna Leather',\n",
       "       'Silver / Black Nappa Leather', 'Red / Grey  Cloth',\n",
       "       'Black / Charcoal Comfort', 'Brown / Cloth', 'White / Grade',\n",
       "       'Grey / Stnd', 'White / Circuit Fabric', 'White / Black  Cloth',\n",
       "       'Silver / Slate', 'Silver / 2019/01', 'White / 54Ld23',\n",
       "       '- / Grey/Black', 'Silver / 42Lf22', 'Silver / 7Efa20',\n",
       "       'White / 2022/07', 'Silver / Leather Black , Black',\n",
       "       'Black / Santorini Bl', 'Silver / 2018/12', 'Blue / Ebony',\n",
       "       'Grey / Dakota Leather', 'Grey / Ebony', 'Brown / Black Fabric',\n",
       "       'Grey / Fabric Black', 'Green / Black/Grey', 'Black / Burgundy',\n",
       "       'Red / Black Leather', 'White / Grey Trim', 'White / Stnd',\n",
       "       'Grey / 2019/08', 'Blue / Grey Velour', 'Silver / Brown',\n",
       "       'Red / Black Alcantara', 'White / 2019/01', 'White / 2020/11',\n",
       "       'Black / Grey Cloth',\n",
       "       'Grey / Leather Vernasca Design Perforated Cognac',\n",
       "       'White / 2021/06', 'Red / Grey Cloth',\n",
       "       'Grey / Amg Black Nappa Leather', 'Silver / Standardleather',\n",
       "       'Grey / Slate', '- / Leather Loun', 'Grey / Black/Black',\n",
       "       'Grey / 2021/04', 'Grey / 2015/01',\n",
       "       'Silver / Ebony Grained Leather', 'White / Penta Fabric',\n",
       "       'Silver / Shadow Grey', 'Grey / Gray', 'Black / Cream',\n",
       "       'White / Black & Red Leather', 'Blue / 2016/01', 'Orange / Cloth',\n",
       "       'Silver / Cream Leather', 'Blue / 2016/04', 'Black / Fz/Black',\n",
       "       'Black / Ebony P375-H', 'White / Nappa Leather',\n",
       "       'Silver / Artico Black', 'Blue / Charcoal Comfort',\n",
       "       'White / Grey & Black', 'Grey / 2017/05', 'White / Black / Gr',\n",
       "       'White / Cloth/Clot', 'Silver / Black  Cloth',\n",
       "       'Red / Grey Leather', 'White / Black & Red Cloth', 'Blue / Slate',\n",
       "       'Grey / Charcoal', 'White / Suede', 'Brown / Beige Leather',\n",
       "       'Yellow / Slate', 'White / 2018/10', 'Brown / Ivory',\n",
       "       'Blue / White', 'Grey / 2016/11', 'Yellow / Brown',\n",
       "       'Black / 2022/09', 'White / 2016/08',\n",
       "       'Grey / Titanium Black-Brown-Orange', 'Silver / Nappa Charcoal',\n",
       "       'Red / Black Leather Accented', 'White / Alcantara',\n",
       "       'Yellow / Black/Ikazuchi Yellow Cloth',\n",
       "       'White / Black Artico Dinamica', 'Blue / Beige  Leather',\n",
       "       'Silver / Black Artico', 'Black / Slate',\n",
       "       'Black / Black Heated Leather', 'Silver / 2019/12', 'Pink / -',\n",
       "       'Silver / Titanium Black Cloth', 'Gold / Black Cloth',\n",
       "       'Gold / Beige', 'White / Partial Leather', 'Grey / Black Artico',\n",
       "       'Gold / Slate', 'Blue / C- Court/B',\n",
       "       'Silver / Black Leather & Red Stitching', 'Blue / Black & Blue',\n",
       "       'Silver / Leather And Suede', 'Grey / Beige  Leather',\n",
       "       'Grey / Black & Cream Leather', 'Red / Beige', 'Grey / 2021/07',\n",
       "       'Grey / 2020/06',\n",
       "       'White / Artico Man-Made Leather Sports Seat Black',\n",
       "       'Silver / Silicon Silver', 'Yellow / Beige',\n",
       "       'Blue / Dark Grey & Blue', 'White / Black / Leather',\n",
       "       'Red / Brown Leather', 'Black / Ebony Circuit Fabric',\n",
       "       'Orange / Leather', 'Black / Santorini Black',\n",
       "       'Red / Black Nappa Leather', 'Red / Grey Sport Cloth',\n",
       "       'Gold / Leather', 'Red / Champagne',\n",
       "       'White / Ebony Black/Ebony Black', 'White / Dark Grey Leather',\n",
       "       'Grey / 2022/01', 'Yellow / Cloth',\n",
       "       'Black / Black Leather And Orange Trim',\n",
       "       'Grey / Black/Express Red Stitching',\n",
       "       'Black / Black Partial Leather', 'Blue / Tan', 'Blue / Stnd',\n",
       "       'White / Black Dinamica', 'White / Black Artico',\n",
       "       'Grey / Black Leather Accented', 'White / Blue',\n",
       "       'Silver / Nappa Leather Black', 'Blue / Brown', 'White / Art Gray',\n",
       "       'Blue / Black Artico', 'Grey / Black & Gray',\n",
       "       'White / Black Exclusive Nappa', 'Brown / White',\n",
       "       'Silver / Leather Dakota Black', 'White / Black/Black',\n",
       "       'Grey / Black  Cloth', 'Grey / Black Sports Leather',\n",
       "       'Red / Grey Cloth Seats', 'Green / Black/Express Red Stitching',\n",
       "       'Silver / F Sport Black/Hadori Aluminium', 'Yellow / Leather',\n",
       "       'Silver / Red', 'Grey / Mmajykl10Jh022022', 'White / 2018/05',\n",
       "       'Gold / Dark Brown F', 'Red / Black/Red', 'Grey / Silver',\n",
       "       'White / 2017/07', 'Grey / 2020/01', 'Black / Black/Grey Leather',\n",
       "       'Red / 2019/08', 'White / Embossed Pattern Black Fabric',\n",
       "       'Grey / Ebony Leathe', 'Red / Black Knight Synthetic Leather',\n",
       "       'Blue / Platinum Grey', 'Silver / Cloth/Leather',\n",
       "       \"White / Bmw Individual Extended Leather Trim 'Merino' Fion\",\n",
       "       'Blue / 2018/09', 'Blue / Beige Leather', 'Bronze / -',\n",
       "       'Silver / Charcoal Comfort', 'Blue / Led.dakota M',\n",
       "       'White / 2015/01', 'Grey / Black / Leather', 'Grey / Parchment',\n",
       "       'Purple / Titanium Black', 'White / 2022/02',\n",
       "       'Silver / Beige  Leather', 'White / 2020/06', 'Blue / 2022/07',\n",
       "       'Red / Grey/ Navy', 'Grey / Cream Beige', 'White / 2019/10',\n",
       "       'White / Titanium Black Cloth', 'Grey / Sensafin Dekorgesteppt',\n",
       "       'White / 2018/03', 'White / 2022/05', 'White / Black Grey',\n",
       "       'Silver / Black & Grey Tartan',\n",
       "       'White / Black & Red Cloth & Sensatec', 'Black / 2015/06',\n",
       "       'Blue / 2016/06', 'Blue / Black Sports Cloth',\n",
       "       'White / Black Sports', 'Other / -',\n",
       "       'Silver / Grey & Black Fabric', 'Silver / Black Leather Accented',\n",
       "       'Black / Black Leather   Cloth', 'Grey / R Line',\n",
       "       'White / 2020/02', 'Grey / Hx', 'White / 2019/05',\n",
       "       'Silver / Leather Cross Punch Carbon Black', 'Red / 2020/07',\n",
       "       'Black / 2016/09', 'Brown / Bone', 'White / Grey\\\\',\n",
       "       'Yellow / Black Cloth', 'White / Black With Red Trim',\n",
       "       'Red / Leather Dakota Black', 'Red / Part Leather',\n",
       "       'Red / Red & Black Leather', 'Blue / Gt Line Leat',\n",
       "       'Blue / Montana Grey Leather', 'Black / Wk',\n",
       "       'Black / Black Softex', 'Red / Charcoal Comfort', 'Red / Charcoal',\n",
       "       'Black / Lava Black L', 'Blue / Charcoal',\n",
       "       'Black / Graphite & Saturn Black', 'Black / Blue/Black',\n",
       "       'Grey / Leather Dakota Black Exclusive Stitching',\n",
       "       \"White / Full Leather 'Merino' Aragon Brown\",\n",
       "       'Blue / Brown Leather', 'Silver / Penta Fabric',\n",
       "       'Silver / Charcoal Grey Cloth', 'White / 2023/01', 'Blue / Bk',\n",
       "       'Blue / Grey / Leather', 'White / Burgandy',\n",
       "       'Red / Grey / Leather', 'Black / Gray', 'Red / Black Leatherette',\n",
       "       'White / Cream Beige', 'Grey / Grey / Leather',\n",
       "       'White / Charcoal Black Cloth', 'Black / Blue / Grey',\n",
       "       'Blue / Leather Black',\n",
       "       'Blue / Ebony Seats/Ebony Interior/Ebony Headlining',\n",
       "       'White / Black Leather Accented', 'Blue / 2017/07',\n",
       "       'Green / Grey & Black', 'Blue / Black  Cloth', 'Grey / 2018/08',\n",
       "       'Black / 2019/09', 'Blue / Ebony Leather 1',\n",
       "       'Red / Silver And Black Silk Nappa', 'Grey / Velour',\n",
       "       'White / Grey Cloth Seats', 'Silver / Walnut Brown Nappa Leather',\n",
       "       '- / Burgundy', '- / Grey  Cloth', 'White / Pure White.',\n",
       "       'Blue / Black/Pale Grey/Black Leather', 'White / Red Leather',\n",
       "       'White / Leather Vernasca Design Perforated Cognac',\n",
       "       'White / Black-Black-Rock Gray', 'White / Beige  Leather',\n",
       "       'Silver / Ebony P375-H', 'White / 2020/12', 'Silver / Gfrey',\n",
       "       'White / Dark Russet Leather', 'White / =',\n",
       "       'Silver / Grey Leather', 'Black / Grey & Black Fabric',\n",
       "       'Silver / Tan Leather', 'Grey / 2021/05', 'Blue / Black/Carbon',\n",
       "       'Red / Grey Partial Leather', 'Brown / 20', 'Blue / Ebony Mason',\n",
       "       'White / R-Line Soul Black', 'White / White. Grey',\n",
       "       'Blue / Grey7/20', 'Blue / Black R-Line',\n",
       "       'Black / Soul Black/Flint Grey', 'Black / Standard Trim',\n",
       "       'White / Black Leather Seats', 'White / Sage Caliber Fabric',\n",
       "       'Grey / Black Sports Cloth', 'Silver / Black & Grey Leather',\n",
       "       'Grey / 2018/03', 'Brown / Chestnut',\n",
       "       'Silver / Embossed Pattern Black Fabric', 'Turquoise / -',\n",
       "       'White / 2021/07', 'White / 2018/09', 'White / 2018/12',\n",
       "       'Brown / Grey Fabric', 'White / Gray', 'Silver / 2018/07',\n",
       "       'Silver / 2021/07', 'White / Black Softex W',\n",
       "       'White / Ebony Interior Trend Mni Perf Ov Milled Pbl',\n",
       "       'White / Dark Grey Cloth', 'White / Standard Trim',\n",
       "       'Blue / Black/Cloth', 'White / Partial Leather Trim',\n",
       "       'Blue / Black/Leather', 'Grey / Windsor Leather',\n",
       "       'Silver / Burgandy', 'Grey / Standard Trim', 'Yellow / Grey Cloth',\n",
       "       'Red / Black Fabric', 'Grey / Black/Leather',\n",
       "       'Grey / Soul Black/Soul Black/Black/Storm Gray',\n",
       "       'Silver / Standard Trim',\n",
       "       'Red / Titanium Black/Titanium Black/Black/Storm Gray',\n",
       "       '- / 16 Black/Titanium Black-Titanium', 'Silver / Off Black',\n",
       "       'Black / Black Synthetic Leather', 'Grey / Grey Fabric',\n",
       "       'White / Extended Partial Leather Interior, Seat Centres In Fabric, Black',\n",
       "       'White / Titanium Black/Titanium Black/Black/Storm Gray',\n",
       "       'White / Null', '5 years / Unlimited km', '7 years / Unlimited km',\n",
       "       'White / Burgundy', 'White / Black And Red',\n",
       "       '5 years / 200,000 km', '2 years / 60,000 km',\n",
       "       '5 years / 250,000 km', '1 years / 10,000 km',\n",
       "       '3 years / Unlimited km', '3 years / 200,000 km',\n",
       "       '3 years / 150,000 km', '2 years / 500,000 km',\n",
       "       '6 years / 150,000 km', '3 years / 100,000 km',\n",
       "       '1 years / Unlimited km', '6 years / 600,000 km',\n",
       "       '6 years / 300,000 km', '6 years / 250,000 km',\n",
       "       '3 years / 500,000 km', '5 years / 160,000 km',\n",
       "       '4 years / 100,000 km', '3 years / 250,000 km',\n",
       "       '5 years / 150,000 km', '6 years / 500,000 km',\n",
       "       '5 years / 300,000 km', 'Silver / Leather 47807', 'Blue / Camel',\n",
       "       'Grey / Ebony Cloth', '3 years / 160,000 km',\n",
       "       '5 years / 100,000 km', '7 years / 200,000 km',\n",
       "       'White / Black/Tan Orange Leather', 'Silver / Blue Dinamica',\n",
       "       'Blue / Natural Beige', 'Silver / Anthracite Grey Leather',\n",
       "       'Silver / Fabric', 'Blue / Petrol Blue', 'Cream / -',\n",
       "       'White / Dark Charcoal Leath', '- / Carbon Black Dinamica/Leather',\n",
       "       'Silver / Black Maztex/Cloth', 'Grey / Leather - Off Black',\n",
       "       'Red / Rs', 'White / Black Roof',\n",
       "       'Grey / Walnut Brown Nappa Leather', 'Orange / Black/Orange',\n",
       "       'White / Mini Yours Leather Lounge Carbon Black',\n",
       "       'White / Titanium Black & Ceramic',\n",
       "       \"White / Ebony Ebony/Ebony Light Oyster 'R-Sport'\", 'Black / Blck',\n",
       "       'Red / -Le02', 'White / Style',\n",
       "       '- / Black Leather Seats With Black Interior And Red Stitching',\n",
       "       'White / Charcoal Cloth', 'Grey / Charcoal Comfort',\n",
       "       'Black / Red Leather', 'Red / Black Maztex/Cloth',\n",
       "       'Grey / Black Cloth/Vinyl', 'White / Pearl Beige',\n",
       "       'Green / Black Leather', 'Gold / Black/Green',\n",
       "       'Silver / Soul Black', 'Blue / Black Grey', 'Silver / Black Nappa',\n",
       "       'White / Black Half Leather', 'Blue / Nappa Charcoal',\n",
       "       'Red / Charcoal Leather', 'White / Black Trim',\n",
       "       'Grey / Black Fabric W/ Red', 'White / Black Nappa Leather',\n",
       "       'Black / Leather Blond', 'Black / Grey & Black',\n",
       "       'Silver / Leather Charcoal/Charcoal/Blond Headlining',\n",
       "       '- / Soul Black', 'Red / Black & Grey Cloth',\n",
       "       'Grey / Obsidian Black', 'Black / Nappa Charcoal',\n",
       "       'Silver / Black & Brown Cloth', 'Black / 2018/11',\n",
       "       'Blue / 2018/02', 'White / Ebony Circuit Fabric',\n",
       "       'White / Black & Driftwood Leather', 'Black / Creme',\n",
       "       'Black / Soul Black & Tornado Red', 'Blue / Soul Black',\n",
       "       'Red / Black Leather/Suede', 'Green / Brown',\n",
       "       'Grey / Dark Russet Leather', 'Blue / Denim',\n",
       "       'Red / Walnut Brown Nappa Leather', 'Red / Cream',\n",
       "       'Red / Blue/Black'], dtype=object)"
      ]
     },
     "execution_count": 36,
     "metadata": {},
     "output_type": "execute_result"
    }
   ],
   "source": [
    "car['ColourExtInt'].unique()"
   ]
  },
  {
   "cell_type": "code",
   "execution_count": 37,
   "metadata": {},
   "outputs": [
    {
     "name": "stdout",
     "output_type": "stream",
     "text": [
      "The count of 'your_specific_value' in 'column_name' is: 7\n"
     ]
    }
   ],
   "source": [
    "count_specific_value = car['ColourExtInt'].value_counts()['5 years / 250,000 km']\n",
    "\n",
    "print(f\"The count of 'your_specific_value' in 'column_name' is: {count_specific_value}\")"
   ]
  },
  {
   "cell_type": "code",
   "execution_count": 38,
   "metadata": {},
   "outputs": [],
   "source": [
    "# Drop out every rows that contained 'years' and '- / -' in ColourExtInt column\n",
    "\n",
    "car.drop(car[car['ColourExtInt'] == '- / -'].index, inplace=True)\n",
    "\n",
    "car.drop(car[car['ColourExtInt'].str.contains('years')].index, inplace=True)\n"
   ]
  },
  {
   "cell_type": "code",
   "execution_count": 39,
   "metadata": {},
   "outputs": [],
   "source": [
    "# Get the str value of the first word from ColourExtInt column and put into a new column 'Colour'\n",
    "car['Colour'] = car['ColourExtInt'].str.split('/').str[0].str.strip()"
   ]
  },
  {
   "cell_type": "code",
   "execution_count": 40,
   "metadata": {},
   "outputs": [],
   "source": [
    "# Drop out 'ColourExtInt' column\n",
    "car.drop(columns='ColourExtInt', inplace=True)"
   ]
  },
  {
   "cell_type": "markdown",
   "metadata": {},
   "source": [
    "#### Check Colour column"
   ]
  },
  {
   "cell_type": "code",
   "execution_count": 41,
   "metadata": {},
   "outputs": [
    {
     "data": {
      "text/plain": [
       "array(['White', 'Black', 'Grey', 'Red', 'Blue', 'Silver', 'Green',\n",
       "       'Yellow', 'Orange', 'Gold', 'Brown', '-', 'Purple', 'Beige',\n",
       "       'Burgundy', 'Pink', 'Bronze', 'Other', 'Turquoise', 'Cream'],\n",
       "      dtype=object)"
      ]
     },
     "execution_count": 41,
     "metadata": {},
     "output_type": "execute_result"
    }
   ],
   "source": [
    "car['Colour'].unique()"
   ]
  },
  {
   "cell_type": "code",
   "execution_count": 42,
   "metadata": {},
   "outputs": [
    {
     "name": "stdout",
     "output_type": "stream",
     "text": [
      "The count of 'your_specific_value' in 'column_name' is: 32\n"
     ]
    }
   ],
   "source": [
    "count_specific_value = car['Colour'].value_counts()['-']\n",
    "\n",
    "print(f\"The count of 'your_specific_value' in 'column_name' is: {count_specific_value}\")"
   ]
  },
  {
   "cell_type": "code",
   "execution_count": 43,
   "metadata": {},
   "outputs": [],
   "source": [
    "car.drop(car[car['Colour'] == '-'].index, inplace=True)"
   ]
  },
  {
   "cell_type": "code",
   "execution_count": 44,
   "metadata": {},
   "outputs": [],
   "source": [
    "car.drop(car[car['Colour'] == 'Other'].index, inplace=True)"
   ]
  },
  {
   "cell_type": "markdown",
   "metadata": {},
   "source": [
    "#### CylindersinEngine column"
   ]
  },
  {
   "cell_type": "code",
   "execution_count": 45,
   "metadata": {},
   "outputs": [
    {
     "data": {
      "text/plain": [
       "array(['4 cyl', '8 cyl', '-', '3 cyl', '6 cyl', '5 cyl', '12 cyl', '0 L',\n",
       "       '2 cyl', '10 cyl'], dtype=object)"
      ]
     },
     "execution_count": 45,
     "metadata": {},
     "output_type": "execute_result"
    }
   ],
   "source": [
    "car['CylindersinEngine'].unique()"
   ]
  },
  {
   "cell_type": "code",
   "execution_count": 46,
   "metadata": {},
   "outputs": [
    {
     "name": "stdout",
     "output_type": "stream",
     "text": [
      "The count of 'your_specific_value' in 'column_name' is: 1074\n"
     ]
    }
   ],
   "source": [
    "count_specific_value = car['CylindersinEngine'].value_counts()['-']\n",
    "\n",
    "print(f\"The count of 'your_specific_value' in 'column_name' is: {count_specific_value}\")"
   ]
  },
  {
   "cell_type": "code",
   "execution_count": 47,
   "metadata": {},
   "outputs": [
    {
     "name": "stdout",
     "output_type": "stream",
     "text": [
      "               Brand  Year     Model                          Title UsedOrNew  \\\n",
      "5             Toyota  2004    Estima                Toyota Estima T      USED   \n",
      "10            Toyota  2009     HiAce               Toyota HiAce (No      USED   \n",
      "32        Volkswagen  2023   T-Cross       Volkswagen T-Cross 85TSI       NEW   \n",
      "38              Jeep  2012     Grand            Jeep Grand Cherokee      USED   \n",
      "40            Toyota  2009     HiAce               Toyota HiAce (No      USED   \n",
      "...              ...   ...       ...                            ...       ...   \n",
      "16706  Mercedes-Benz  2016  Sprinter  Mercedes-Benz Sprinter 319CDI      USED   \n",
      "16708         Nissan  2008   Elgrand                 Nissan Elgrand      USED   \n",
      "16723         Suzuki  2022     Swift                Suzuki Swift GL       NEW   \n",
      "16726         Toyota  2011    Estima                  Toyota Estima      USED   \n",
      "16729         Toyota  2014   Alphard                 Toyota Alphard      USED   \n",
      "\n",
      "      Transmission  FuelType  Kilometres CylindersinEngine    BodyType  Price  \\\n",
      "5        Automatic  Unleaded      160230                 -  Commercial   9990   \n",
      "10       Automatic  Unleaded      148190                 -  Commercial  42500   \n",
      "32       Automatic   Premium          15                 -       Wagon  35887   \n",
      "38       Automatic  Unleaded      224839                 -       Wagon  13999   \n",
      "40       Automatic  Unleaded       76259                 -  Commercial  32900   \n",
      "...            ...       ...         ...               ...         ...    ...   \n",
      "16706    Automatic    Diesel      186856                 -  Commercial  39950   \n",
      "16708    Automatic  Unleaded       97000                 -       Wagon  18000   \n",
      "16723    Automatic  Unleaded          20                 -   Hatchback  28590   \n",
      "16726    Automatic  Unleaded       97000                 -       Wagon  21989   \n",
      "16729    Automatic  Unleaded       66000                 -  Commercial  29500   \n",
      "\n",
      "       Colour  \n",
      "5        Grey  \n",
      "10      White  \n",
      "32      White  \n",
      "38        Red  \n",
      "40      White  \n",
      "...       ...  \n",
      "16706   White  \n",
      "16708   White  \n",
      "16723  Silver  \n",
      "16726  Silver  \n",
      "16729    Grey  \n",
      "\n",
      "[1074 rows x 12 columns]\n"
     ]
    }
   ],
   "source": [
    "selected_rows = car[car['CylindersinEngine'] == '-']\n",
    "\n",
    "# Print or inspect the selected rows\n",
    "print(selected_rows)"
   ]
  },
  {
   "cell_type": "code",
   "execution_count": 48,
   "metadata": {},
   "outputs": [],
   "source": [
    "# Get the first value from str in CylindersinEngine column\n",
    "car['CylindersinEngine']=car['CylindersinEngine'].str.split().str.slice(start=0,stop=1).str.join('')"
   ]
  },
  {
   "cell_type": "code",
   "execution_count": 49,
   "metadata": {},
   "outputs": [],
   "source": [
    "# Replace '-' with '4' and covert CylindersinEngine type to (int)\n",
    "car['CylindersinEngine']=car['CylindersinEngine'].str.replace('-','4').astype(int)"
   ]
  },
  {
   "cell_type": "markdown",
   "metadata": {},
   "source": [
    "#### BodyType column"
   ]
  },
  {
   "cell_type": "code",
   "execution_count": 50,
   "metadata": {},
   "outputs": [
    {
     "data": {
      "text/plain": [
       "array(['SUV', 'Hatchback', 'Coupe', 'Commercial', 'Ute / Tray', 'Sedan',\n",
       "       'Wagon', 'People Mover', 'Convertible', 'Other'], dtype=object)"
      ]
     },
     "execution_count": 50,
     "metadata": {},
     "output_type": "execute_result"
    }
   ],
   "source": [
    "car['BodyType'].unique()"
   ]
  },
  {
   "cell_type": "code",
   "execution_count": 51,
   "metadata": {},
   "outputs": [
    {
     "name": "stdout",
     "output_type": "stream",
     "text": [
      "The count of 'your_specific_value' in 'column_name' is: 14\n"
     ]
    }
   ],
   "source": [
    "count_specific_value = car['BodyType'].value_counts()['Other']\n",
    "\n",
    "print(f\"The count of 'your_specific_value' in 'column_name' is: {count_specific_value}\")"
   ]
  },
  {
   "cell_type": "code",
   "execution_count": 52,
   "metadata": {},
   "outputs": [
    {
     "name": "stdout",
     "output_type": "stream",
     "text": [
      "      Brand  Year Model        Title UsedOrNew Transmission FuelType  \\\n",
      "1628   Audi  2019    A3   Audi A3 40      USED    Automatic  Premium   \n",
      "1914   Audi  2020    RS    Audi RS 7      USED    Automatic   Hybrid   \n",
      "2177   Audi  2018    A3   Audi A3 35      USED    Automatic  Premium   \n",
      "3141   Audi  2019    A3   Audi A3 35      USED    Automatic  Premium   \n",
      "3435   Audi  2018    A3   Audi A3 35      USED    Automatic  Premium   \n",
      "3552   Audi  2023    A5   Audi A5 45      DEMO    Automatic   Hybrid   \n",
      "3731   Audi  2019    S3  Audi S3 2.0      USED    Automatic  Premium   \n",
      "3733   Audi  2023    A5   Audi A5 45      DEMO    Automatic   Hybrid   \n",
      "3920   Audi  2018    A3   Audi A3 35      USED    Automatic  Premium   \n",
      "6045   Audi  2020    RS    Audi RS 3      USED    Automatic  Premium   \n",
      "7719   Audi  2019    A3   Audi A3 35      USED    Automatic  Premium   \n",
      "10732  Audi  2018    A3   Audi A3 30      USED    Automatic  Premium   \n",
      "15290  Audi  2023    A5   Audi A5 45      DEMO    Automatic   Hybrid   \n",
      "16623  Audi  2022    A5   Audi A5 45      DEMO    Automatic   Hybrid   \n",
      "\n",
      "       Kilometres  CylindersinEngine BodyType   Price  Colour  \n",
      "1628        46595                  4    Other   41880    Grey  \n",
      "1914        43003                  8    Other  189990   White  \n",
      "2177        22404                  4    Other   32800  Silver  \n",
      "3141        73164                  4    Other   31800   White  \n",
      "3435        49029                  4    Other   35990   White  \n",
      "3552         2088                  4    Other   96888   Black  \n",
      "3731        22889                  4    Other   56990  Silver  \n",
      "3733         2088                  4    Other   93888   Black  \n",
      "3920        34921                  4    Other   30880     Red  \n",
      "6045        15487                  5    Other   89800    Grey  \n",
      "7719        21748                  4    Other   37990     Red  \n",
      "10732       38094                  3    Other   27800   Black  \n",
      "15290        2088                  4    Other  102488   White  \n",
      "16623        4890                  4    Other   94900   White  \n"
     ]
    }
   ],
   "source": [
    "selected_rows = car[car['BodyType'] == 'Other']\n",
    "\n",
    "# Print or inspect the selected rows\n",
    "print(selected_rows)"
   ]
  },
  {
   "cell_type": "code",
   "execution_count": 53,
   "metadata": {},
   "outputs": [],
   "source": [
    "\n",
    "# Replace 'OldValue' with 'NewValue' in 'TargetColumn' where 'ConditionColumn' has a specific value\n",
    "condition_value1 = 'Audi A3 35','Audi RS 7','Audi S3 2.0','Audi A5 45','Audi A3 40'\n",
    "condition_value2 = 'Audi RS 3','Audi A3 30'\n",
    "old_value = 'Other'\n",
    "value1 = 'Sedan'\n",
    "value2 = 'Hatchback'\n",
    "\n",
    "condition_mask1 = car['Title'].isin(condition_value1)\n",
    "car.loc[condition_mask1, 'BodyType'] = car.loc[condition_mask1, 'BodyType'].replace(old_value, value1)\n",
    "\n",
    "condition_mask2 = car['Title'].isin(condition_value2)\n",
    "car.loc[condition_mask2, 'BodyType'] = car.loc[condition_mask2, 'BodyType'].replace(old_value, value1)\n",
    "\n",
    "\n"
   ]
  },
  {
   "cell_type": "markdown",
   "metadata": {},
   "source": [
    "#### Price column"
   ]
  },
  {
   "cell_type": "code",
   "execution_count": 54,
   "metadata": {},
   "outputs": [
    {
     "data": {
      "text/plain": [
       "array(['51990', '19990', '108988', ..., '21989', '36770', '35280'],\n",
       "      dtype=object)"
      ]
     },
     "execution_count": 54,
     "metadata": {},
     "output_type": "execute_result"
    }
   ],
   "source": [
    "car['Price'].unique()"
   ]
  },
  {
   "cell_type": "code",
   "execution_count": 55,
   "metadata": {},
   "outputs": [],
   "source": [
    "car=car[car['Price'].str.isnumeric()]"
   ]
  },
  {
   "cell_type": "code",
   "execution_count": 56,
   "metadata": {},
   "outputs": [],
   "source": [
    "car['Price']= car['Price'].astype(int)"
   ]
  },
  {
   "cell_type": "code",
   "execution_count": 57,
   "metadata": {},
   "outputs": [],
   "source": [
    "car=car.reset_index(drop=True)"
   ]
  },
  {
   "cell_type": "markdown",
   "metadata": {},
   "source": [
    "## Cleaned Data"
   ]
  },
  {
   "cell_type": "code",
   "execution_count": 58,
   "metadata": {},
   "outputs": [
    {
     "name": "stdout",
     "output_type": "stream",
     "text": [
      "<class 'pandas.core.frame.DataFrame'>\n",
      "RangeIndex: 15094 entries, 0 to 15093\n",
      "Data columns (total 12 columns):\n",
      " #   Column             Non-Null Count  Dtype \n",
      "---  ------             --------------  ----- \n",
      " 0   Brand              15094 non-null  object\n",
      " 1   Year               15094 non-null  int32 \n",
      " 2   Model              15094 non-null  object\n",
      " 3   Title              15094 non-null  object\n",
      " 4   UsedOrNew          15094 non-null  object\n",
      " 5   Transmission       15094 non-null  object\n",
      " 6   FuelType           15094 non-null  object\n",
      " 7   Kilometres         15094 non-null  int32 \n",
      " 8   CylindersinEngine  15094 non-null  int32 \n",
      " 9   BodyType           15094 non-null  object\n",
      " 10  Price              15094 non-null  int32 \n",
      " 11  Colour             15094 non-null  object\n",
      "dtypes: int32(4), object(8)\n",
      "memory usage: 1.2+ MB\n"
     ]
    }
   ],
   "source": [
    "car.info()"
   ]
  },
  {
   "cell_type": "code",
   "execution_count": 59,
   "metadata": {},
   "outputs": [
    {
     "data": {
      "text/html": [
       "<div>\n",
       "<style scoped>\n",
       "    .dataframe tbody tr th:only-of-type {\n",
       "        vertical-align: middle;\n",
       "    }\n",
       "\n",
       "    .dataframe tbody tr th {\n",
       "        vertical-align: top;\n",
       "    }\n",
       "\n",
       "    .dataframe thead th {\n",
       "        text-align: right;\n",
       "    }\n",
       "</style>\n",
       "<table border=\"1\" class=\"dataframe\">\n",
       "  <thead>\n",
       "    <tr style=\"text-align: right;\">\n",
       "      <th></th>\n",
       "      <th>Brand</th>\n",
       "      <th>Year</th>\n",
       "      <th>Model</th>\n",
       "      <th>Title</th>\n",
       "      <th>UsedOrNew</th>\n",
       "      <th>Transmission</th>\n",
       "      <th>FuelType</th>\n",
       "      <th>Kilometres</th>\n",
       "      <th>CylindersinEngine</th>\n",
       "      <th>BodyType</th>\n",
       "      <th>Price</th>\n",
       "      <th>Colour</th>\n",
       "    </tr>\n",
       "  </thead>\n",
       "  <tbody>\n",
       "    <tr>\n",
       "      <th>15089</th>\n",
       "      <td>Nissan</td>\n",
       "      <td>2021</td>\n",
       "      <td>Qashqai</td>\n",
       "      <td>Nissan Qashqai TI</td>\n",
       "      <td>USED</td>\n",
       "      <td>Automatic</td>\n",
       "      <td>Unleaded</td>\n",
       "      <td>32977</td>\n",
       "      <td>4</td>\n",
       "      <td>SUV</td>\n",
       "      <td>36770</td>\n",
       "      <td>White</td>\n",
       "    </tr>\n",
       "    <tr>\n",
       "      <th>15090</th>\n",
       "      <td>Toyota</td>\n",
       "      <td>2014</td>\n",
       "      <td>Alphard</td>\n",
       "      <td>Toyota Alphard</td>\n",
       "      <td>USED</td>\n",
       "      <td>Automatic</td>\n",
       "      <td>Unleaded</td>\n",
       "      <td>66000</td>\n",
       "      <td>4</td>\n",
       "      <td>Commercial</td>\n",
       "      <td>29500</td>\n",
       "      <td>Grey</td>\n",
       "    </tr>\n",
       "    <tr>\n",
       "      <th>15091</th>\n",
       "      <td>Suzuki</td>\n",
       "      <td>2022</td>\n",
       "      <td>Vitara</td>\n",
       "      <td>Suzuki Vitara 1.6L</td>\n",
       "      <td>DEMO</td>\n",
       "      <td>Automatic</td>\n",
       "      <td>Unleaded</td>\n",
       "      <td>5165</td>\n",
       "      <td>4</td>\n",
       "      <td>SUV</td>\n",
       "      <td>35280</td>\n",
       "      <td>Yellow</td>\n",
       "    </tr>\n",
       "    <tr>\n",
       "      <th>15092</th>\n",
       "      <td>Mercedes-Benz</td>\n",
       "      <td>2016</td>\n",
       "      <td>GLC250</td>\n",
       "      <td>Mercedes-Benz GLC250</td>\n",
       "      <td>USED</td>\n",
       "      <td>Automatic</td>\n",
       "      <td>Premium</td>\n",
       "      <td>85525</td>\n",
       "      <td>4</td>\n",
       "      <td>SUV</td>\n",
       "      <td>41888</td>\n",
       "      <td>Grey</td>\n",
       "    </tr>\n",
       "    <tr>\n",
       "      <th>15093</th>\n",
       "      <td>Mercedes-Benz</td>\n",
       "      <td>2021</td>\n",
       "      <td>C200</td>\n",
       "      <td>Mercedes-Benz C200</td>\n",
       "      <td>USED</td>\n",
       "      <td>Automatic</td>\n",
       "      <td>Unleaded</td>\n",
       "      <td>31852</td>\n",
       "      <td>4</td>\n",
       "      <td>Sedan</td>\n",
       "      <td>65888</td>\n",
       "      <td>Gold</td>\n",
       "    </tr>\n",
       "  </tbody>\n",
       "</table>\n",
       "</div>"
      ],
      "text/plain": [
       "               Brand  Year    Model                 Title UsedOrNew  \\\n",
       "15089         Nissan  2021  Qashqai     Nissan Qashqai TI      USED   \n",
       "15090         Toyota  2014  Alphard        Toyota Alphard      USED   \n",
       "15091         Suzuki  2022   Vitara    Suzuki Vitara 1.6L      DEMO   \n",
       "15092  Mercedes-Benz  2016   GLC250  Mercedes-Benz GLC250      USED   \n",
       "15093  Mercedes-Benz  2021     C200    Mercedes-Benz C200      USED   \n",
       "\n",
       "      Transmission  FuelType  Kilometres  CylindersinEngine    BodyType  \\\n",
       "15089    Automatic  Unleaded       32977                  4         SUV   \n",
       "15090    Automatic  Unleaded       66000                  4  Commercial   \n",
       "15091    Automatic  Unleaded        5165                  4         SUV   \n",
       "15092    Automatic   Premium       85525                  4         SUV   \n",
       "15093    Automatic  Unleaded       31852                  4       Sedan   \n",
       "\n",
       "       Price  Colour  \n",
       "15089  36770   White  \n",
       "15090  29500    Grey  \n",
       "15091  35280  Yellow  \n",
       "15092  41888    Grey  \n",
       "15093  65888    Gold  "
      ]
     },
     "execution_count": 59,
     "metadata": {},
     "output_type": "execute_result"
    }
   ],
   "source": [
    "car.tail()"
   ]
  },
  {
   "cell_type": "code",
   "execution_count": 60,
   "metadata": {},
   "outputs": [
    {
     "data": {
      "text/plain": [
       "(15094, 12)"
      ]
     },
     "execution_count": 60,
     "metadata": {},
     "output_type": "execute_result"
    }
   ],
   "source": [
    "car.shape"
   ]
  },
  {
   "cell_type": "code",
   "execution_count": 61,
   "metadata": {},
   "outputs": [],
   "source": [
    "car.drop('Unnamed: 0', axis=1, inplace=True, errors='ignore')"
   ]
  },
  {
   "cell_type": "markdown",
   "metadata": {},
   "source": [
    "#### Create new csv file to store cleaned data"
   ]
  },
  {
   "cell_type": "code",
   "execution_count": 62,
   "metadata": {},
   "outputs": [],
   "source": [
    "car.to_csv('Cleaned_data.csv')"
   ]
  },
  {
   "cell_type": "code",
   "execution_count": 63,
   "metadata": {},
   "outputs": [
    {
     "data": {
      "text/html": [
       "<div>\n",
       "<style scoped>\n",
       "    .dataframe tbody tr th:only-of-type {\n",
       "        vertical-align: middle;\n",
       "    }\n",
       "\n",
       "    .dataframe tbody tr th {\n",
       "        vertical-align: top;\n",
       "    }\n",
       "\n",
       "    .dataframe thead th {\n",
       "        text-align: right;\n",
       "    }\n",
       "</style>\n",
       "<table border=\"1\" class=\"dataframe\">\n",
       "  <thead>\n",
       "    <tr style=\"text-align: right;\">\n",
       "      <th></th>\n",
       "      <th>Brand</th>\n",
       "      <th>Year</th>\n",
       "      <th>Model</th>\n",
       "      <th>Title</th>\n",
       "      <th>UsedOrNew</th>\n",
       "      <th>Transmission</th>\n",
       "      <th>FuelType</th>\n",
       "      <th>Kilometres</th>\n",
       "      <th>CylindersinEngine</th>\n",
       "      <th>BodyType</th>\n",
       "      <th>Price</th>\n",
       "      <th>Colour</th>\n",
       "    </tr>\n",
       "  </thead>\n",
       "  <tbody>\n",
       "    <tr>\n",
       "      <th>0</th>\n",
       "      <td>Ssangyong</td>\n",
       "      <td>2022</td>\n",
       "      <td>Rexton</td>\n",
       "      <td>Ssangyong Rexton Ultimate</td>\n",
       "      <td>DEMO</td>\n",
       "      <td>Automatic</td>\n",
       "      <td>Diesel</td>\n",
       "      <td>5595</td>\n",
       "      <td>4</td>\n",
       "      <td>SUV</td>\n",
       "      <td>51990</td>\n",
       "      <td>White</td>\n",
       "    </tr>\n",
       "    <tr>\n",
       "      <th>1</th>\n",
       "      <td>MG</td>\n",
       "      <td>2022</td>\n",
       "      <td>MG3</td>\n",
       "      <td>MG MG3 Auto</td>\n",
       "      <td>USED</td>\n",
       "      <td>Automatic</td>\n",
       "      <td>Premium</td>\n",
       "      <td>16</td>\n",
       "      <td>4</td>\n",
       "      <td>Hatchback</td>\n",
       "      <td>19990</td>\n",
       "      <td>Black</td>\n",
       "    </tr>\n",
       "    <tr>\n",
       "      <th>2</th>\n",
       "      <td>BMW</td>\n",
       "      <td>2022</td>\n",
       "      <td>430I</td>\n",
       "      <td>BMW 430I M</td>\n",
       "      <td>USED</td>\n",
       "      <td>Automatic</td>\n",
       "      <td>Premium</td>\n",
       "      <td>8472</td>\n",
       "      <td>4</td>\n",
       "      <td>Coupe</td>\n",
       "      <td>108988</td>\n",
       "      <td>Grey</td>\n",
       "    </tr>\n",
       "    <tr>\n",
       "      <th>3</th>\n",
       "      <td>Mercedes-Benz</td>\n",
       "      <td>2011</td>\n",
       "      <td>E500</td>\n",
       "      <td>Mercedes-Benz E500 Elegance</td>\n",
       "      <td>USED</td>\n",
       "      <td>Automatic</td>\n",
       "      <td>Premium</td>\n",
       "      <td>136517</td>\n",
       "      <td>8</td>\n",
       "      <td>Coupe</td>\n",
       "      <td>32990</td>\n",
       "      <td>White</td>\n",
       "    </tr>\n",
       "    <tr>\n",
       "      <th>4</th>\n",
       "      <td>Renault</td>\n",
       "      <td>2022</td>\n",
       "      <td>Arkana</td>\n",
       "      <td>Renault Arkana Intens</td>\n",
       "      <td>USED</td>\n",
       "      <td>Automatic</td>\n",
       "      <td>Unleaded</td>\n",
       "      <td>1035</td>\n",
       "      <td>4</td>\n",
       "      <td>SUV</td>\n",
       "      <td>34990</td>\n",
       "      <td>Grey</td>\n",
       "    </tr>\n",
       "    <tr>\n",
       "      <th>...</th>\n",
       "      <td>...</td>\n",
       "      <td>...</td>\n",
       "      <td>...</td>\n",
       "      <td>...</td>\n",
       "      <td>...</td>\n",
       "      <td>...</td>\n",
       "      <td>...</td>\n",
       "      <td>...</td>\n",
       "      <td>...</td>\n",
       "      <td>...</td>\n",
       "      <td>...</td>\n",
       "      <td>...</td>\n",
       "    </tr>\n",
       "    <tr>\n",
       "      <th>15089</th>\n",
       "      <td>Nissan</td>\n",
       "      <td>2021</td>\n",
       "      <td>Qashqai</td>\n",
       "      <td>Nissan Qashqai TI</td>\n",
       "      <td>USED</td>\n",
       "      <td>Automatic</td>\n",
       "      <td>Unleaded</td>\n",
       "      <td>32977</td>\n",
       "      <td>4</td>\n",
       "      <td>SUV</td>\n",
       "      <td>36770</td>\n",
       "      <td>White</td>\n",
       "    </tr>\n",
       "    <tr>\n",
       "      <th>15090</th>\n",
       "      <td>Toyota</td>\n",
       "      <td>2014</td>\n",
       "      <td>Alphard</td>\n",
       "      <td>Toyota Alphard</td>\n",
       "      <td>USED</td>\n",
       "      <td>Automatic</td>\n",
       "      <td>Unleaded</td>\n",
       "      <td>66000</td>\n",
       "      <td>4</td>\n",
       "      <td>Commercial</td>\n",
       "      <td>29500</td>\n",
       "      <td>Grey</td>\n",
       "    </tr>\n",
       "    <tr>\n",
       "      <th>15091</th>\n",
       "      <td>Suzuki</td>\n",
       "      <td>2022</td>\n",
       "      <td>Vitara</td>\n",
       "      <td>Suzuki Vitara 1.6L</td>\n",
       "      <td>DEMO</td>\n",
       "      <td>Automatic</td>\n",
       "      <td>Unleaded</td>\n",
       "      <td>5165</td>\n",
       "      <td>4</td>\n",
       "      <td>SUV</td>\n",
       "      <td>35280</td>\n",
       "      <td>Yellow</td>\n",
       "    </tr>\n",
       "    <tr>\n",
       "      <th>15092</th>\n",
       "      <td>Mercedes-Benz</td>\n",
       "      <td>2016</td>\n",
       "      <td>GLC250</td>\n",
       "      <td>Mercedes-Benz GLC250</td>\n",
       "      <td>USED</td>\n",
       "      <td>Automatic</td>\n",
       "      <td>Premium</td>\n",
       "      <td>85525</td>\n",
       "      <td>4</td>\n",
       "      <td>SUV</td>\n",
       "      <td>41888</td>\n",
       "      <td>Grey</td>\n",
       "    </tr>\n",
       "    <tr>\n",
       "      <th>15093</th>\n",
       "      <td>Mercedes-Benz</td>\n",
       "      <td>2021</td>\n",
       "      <td>C200</td>\n",
       "      <td>Mercedes-Benz C200</td>\n",
       "      <td>USED</td>\n",
       "      <td>Automatic</td>\n",
       "      <td>Unleaded</td>\n",
       "      <td>31852</td>\n",
       "      <td>4</td>\n",
       "      <td>Sedan</td>\n",
       "      <td>65888</td>\n",
       "      <td>Gold</td>\n",
       "    </tr>\n",
       "  </tbody>\n",
       "</table>\n",
       "<p>15094 rows × 12 columns</p>\n",
       "</div>"
      ],
      "text/plain": [
       "               Brand  Year    Model                        Title UsedOrNew  \\\n",
       "0          Ssangyong  2022   Rexton    Ssangyong Rexton Ultimate      DEMO   \n",
       "1                 MG  2022      MG3                  MG MG3 Auto      USED   \n",
       "2                BMW  2022     430I                   BMW 430I M      USED   \n",
       "3      Mercedes-Benz  2011     E500  Mercedes-Benz E500 Elegance      USED   \n",
       "4            Renault  2022   Arkana        Renault Arkana Intens      USED   \n",
       "...              ...   ...      ...                          ...       ...   \n",
       "15089         Nissan  2021  Qashqai            Nissan Qashqai TI      USED   \n",
       "15090         Toyota  2014  Alphard               Toyota Alphard      USED   \n",
       "15091         Suzuki  2022   Vitara           Suzuki Vitara 1.6L      DEMO   \n",
       "15092  Mercedes-Benz  2016   GLC250         Mercedes-Benz GLC250      USED   \n",
       "15093  Mercedes-Benz  2021     C200           Mercedes-Benz C200      USED   \n",
       "\n",
       "      Transmission  FuelType  Kilometres  CylindersinEngine    BodyType  \\\n",
       "0        Automatic    Diesel        5595                  4         SUV   \n",
       "1        Automatic   Premium          16                  4   Hatchback   \n",
       "2        Automatic   Premium        8472                  4       Coupe   \n",
       "3        Automatic   Premium      136517                  8       Coupe   \n",
       "4        Automatic  Unleaded        1035                  4         SUV   \n",
       "...            ...       ...         ...                ...         ...   \n",
       "15089    Automatic  Unleaded       32977                  4         SUV   \n",
       "15090    Automatic  Unleaded       66000                  4  Commercial   \n",
       "15091    Automatic  Unleaded        5165                  4         SUV   \n",
       "15092    Automatic   Premium       85525                  4         SUV   \n",
       "15093    Automatic  Unleaded       31852                  4       Sedan   \n",
       "\n",
       "        Price  Colour  \n",
       "0       51990   White  \n",
       "1       19990   Black  \n",
       "2      108988    Grey  \n",
       "3       32990   White  \n",
       "4       34990    Grey  \n",
       "...       ...     ...  \n",
       "15089   36770   White  \n",
       "15090   29500    Grey  \n",
       "15091   35280  Yellow  \n",
       "15092   41888    Grey  \n",
       "15093   65888    Gold  \n",
       "\n",
       "[15094 rows x 12 columns]"
      ]
     },
     "execution_count": 63,
     "metadata": {},
     "output_type": "execute_result"
    }
   ],
   "source": [
    "car"
   ]
  },
  {
   "cell_type": "code",
   "execution_count": 64,
   "metadata": {},
   "outputs": [
    {
     "name": "stdout",
     "output_type": "stream",
     "text": [
      "<class 'pandas.core.frame.DataFrame'>\n",
      "RangeIndex: 15094 entries, 0 to 15093\n",
      "Data columns (total 12 columns):\n",
      " #   Column             Non-Null Count  Dtype \n",
      "---  ------             --------------  ----- \n",
      " 0   Brand              15094 non-null  object\n",
      " 1   Year               15094 non-null  int32 \n",
      " 2   Model              15094 non-null  object\n",
      " 3   Title              15094 non-null  object\n",
      " 4   UsedOrNew          15094 non-null  object\n",
      " 5   Transmission       15094 non-null  object\n",
      " 6   FuelType           15094 non-null  object\n",
      " 7   Kilometres         15094 non-null  int32 \n",
      " 8   CylindersinEngine  15094 non-null  int32 \n",
      " 9   BodyType           15094 non-null  object\n",
      " 10  Price              15094 non-null  int32 \n",
      " 11  Colour             15094 non-null  object\n",
      "dtypes: int32(4), object(8)\n",
      "memory usage: 1.2+ MB\n"
     ]
    }
   ],
   "source": [
    "car.info()"
   ]
  },
  {
   "cell_type": "code",
   "execution_count": 65,
   "metadata": {},
   "outputs": [
    {
     "data": {
      "text/plain": [
       "Brand                0\n",
       "Year                 0\n",
       "Model                0\n",
       "Title                0\n",
       "UsedOrNew            0\n",
       "Transmission         0\n",
       "FuelType             0\n",
       "Kilometres           0\n",
       "CylindersinEngine    0\n",
       "BodyType             0\n",
       "Price                0\n",
       "Colour               0\n",
       "dtype: int64"
      ]
     },
     "execution_count": 65,
     "metadata": {},
     "output_type": "execute_result"
    }
   ],
   "source": [
    "car.isna().sum().sort_values(ascending=False)"
   ]
  },
  {
   "cell_type": "code",
   "execution_count": 66,
   "metadata": {},
   "outputs": [
    {
     "data": {
      "text/plain": [
       "Brand                   66\n",
       "Year                    40\n",
       "Model                  706\n",
       "Title                 2199\n",
       "UsedOrNew                3\n",
       "Transmission             2\n",
       "FuelType                 8\n",
       "Kilometres           13454\n",
       "CylindersinEngine        9\n",
       "BodyType                 9\n",
       "Price                 3293\n",
       "Colour                  18\n",
       "dtype: int64"
      ]
     },
     "execution_count": 66,
     "metadata": {},
     "output_type": "execute_result"
    }
   ],
   "source": [
    "car.nunique()"
   ]
  }
 ],
 "metadata": {
  "kernelspec": {
   "display_name": "Python 3",
   "language": "python",
   "name": "python3"
  },
  "language_info": {
   "codemirror_mode": {
    "name": "ipython",
    "version": 3
   },
   "file_extension": ".py",
   "mimetype": "text/x-python",
   "name": "python",
   "nbconvert_exporter": "python",
   "pygments_lexer": "ipython3",
   "version": "3.11.5"
  }
 },
 "nbformat": 4,
 "nbformat_minor": 2
}
